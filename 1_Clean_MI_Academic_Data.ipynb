{
 "cells": [
  {
   "cell_type": "code",
   "execution_count": 5,
   "metadata": {
    "colab": {
     "base_uri": "https://localhost:8080/"
    },
    "id": "WaNLXJtxc6KM",
    "outputId": "f56bef87-11f8-463c-eea1-27c96e7e6a4a"
   },
   "outputs": [],
   "source": [
    "# Imports\n",
    "import pandas as pd\n",
    "import numpy as np\n",
    "from zipfile import ZipFile\n",
    "import os\n",
    "path = os.getcwd()"
   ]
  },
  {
   "cell_type": "markdown",
   "metadata": {
    "id": "68gw-8IZrcqO"
   },
   "source": [
    "# Import and clean 8th grade math scores for each year"
   ]
  },
  {
   "cell_type": "code",
   "execution_count": 4,
   "metadata": {
    "colab": {
     "base_uri": "https://localhost:8080/"
    },
    "id": "QIp6r8nYeVhG",
    "outputId": "a63ba6c1-e8e8-4fae-f350-c3a54b71b913"
   },
   "outputs": [],
   "source": [
    "# Import csv files downloaded from State of Michigan website\n",
    "\n",
    "MIData2015_2016 = pd.read_csv(path+'/1_CSV_Data/Grades_3_8_2015_2016.csv', low_memory=False) \n",
    "MIData2016_2017 = pd.read_csv(path+'/1_CSV_Data/Grades_3_8_2016_2017.csv', low_memory=False) \n",
    "MIData2017_2018 = pd.read_csv(path+'/1_CSV_Data/Grades_3_8_2017_2018.csv', low_memory=False) \n",
    "MIData2018_2019 = pd.read_csv(path+'/1_CSV_Data/Grades_3_8_2018_2019.csv', low_memory=False) \n",
    "MIData2020_2021 = pd.read_csv(path+'/1_CSV_Data/Grades_3_8_2020_2021.csv', low_memory=False) "
   ]
  },
  {
   "cell_type": "code",
   "execution_count": 8,
   "metadata": {
    "id": "KHEqkODj1Jfm"
   },
   "outputs": [],
   "source": [
    "# Function to clean the dataframe for each school year's data\n",
    "def clean_dataframe(df, marker, year):\n",
    "  df = df.rename(columns=lambda x: x.strip())\n",
    "  df.columns = df.columns.str.lower()  \n",
    "  df = df[df['gradecontenttested'] == 8]\n",
    "  df = df[['schoolyear', 'testtype', 'isdcode', 'isdname',\n",
    "       'districtcode', 'districtname', 'buildingcode', 'buildingname',\n",
    "       'countycode', 'countyname', 'entitytype', 'schoollevel', 'locale',\n",
    "       'mistem_name', 'mistem_code', 'gradecontenttested', 'subject', 'reportcategory',\n",
    "       'numberassessed', 'percentmet']]\n",
    "  df = df[df['subject'].str.contains('Mathematics')]\n",
    "  df = df[df['reportcategory'].str.contains('All Students')]\n",
    "  df = df[df['buildingname'].str.contains('Middle')]\n",
    "\n",
    "  # Filter for test type\n",
    "  if marker == 1:\n",
    "    df = df[df['testtype'].str.contains('M-STEP')] # For years through 2017-2018 school year\n",
    "  else:\n",
    "    df = df[df['testtype'].str.contains('PSAT')] # For years after 2017-2018\n",
    "  \n",
    "  # Replace <=10%, etc. with integers\n",
    "  df.loc[df.percentmet == '>=80%', 'percentmet'] = 90\n",
    "  df.loc[df.percentmet == '>=90%', 'percentmet'] = 95\n",
    "  df.loc[df.percentmet == '<=5%', 'percentmet'] = 2.5\n",
    "  df.loc[df.percentmet == '<=10%', 'percentmet'] = 5\n",
    "  df.loc[df.percentmet == '<=20%', 'percentmet'] = 10\n",
    "  df.loc[df.percentmet == '<=50%', 'percentmet'] = np.NaN\n",
    "  df.loc[df.percentmet == '*', 'percentmet'] = np.NaN\n",
    "\n",
    "  # Trim dataframe down to essentials\n",
    "  df = df[['schoolyear', 'districtcode', 'districtname', 'buildingcode', 'buildingname',\n",
    "       'countycode', 'countyname', 'percentmet']]\n",
    "      \n",
    "  # Cast 'percentmet' column as floats\n",
    "  df['percentmet'] = df['percentmet'].astype(float) \n",
    "\n",
    "  # Groupby school district using mean of middle schools\n",
    "  df = df.groupby(['districtcode'], as_index=False).agg({'schoolyear':'first', 'districtname':'first', 'percentmet':([np.mean])})\n",
    "  df.columns = df.columns.droplevel(1)\n",
    "\n",
    "  # Name percentmet with year suffix\n",
    "  df = df.rename(columns = {'percentmet' : '8th_math_percentmet'})\n",
    "\n",
    "  # Drop rows with NaN\n",
    "  df = df.dropna()\n",
    "\n",
    "  # Cast 'districtcode' as string\n",
    "  df['districtcode'] = df['districtcode'].astype(str)\n",
    "  df = df.sort_values('districtcode')\n",
    "\n",
    "  return df"
   ]
  },
  {
   "cell_type": "code",
   "execution_count": 9,
   "metadata": {
    "id": "d66fzf87Sfvp"
   },
   "outputs": [],
   "source": [
    "# Clean dataframe. Marker of 1 indicates M-STEP, 2 indicates PSAT\n",
    "MIData2015_2016c = clean_dataframe(MIData2015_2016, 1, '2015_2016')\n",
    "MIData2016_2017c = clean_dataframe(MIData2016_2017, 1, '2016_2017')\n",
    "MIData2017_2018c = clean_dataframe(MIData2017_2018, 1, '2017_2018')\n",
    "MIData2018_2019c = clean_dataframe(MIData2018_2019, 2, '2018_2019')\n",
    "MIData2020_2021c = clean_dataframe(MIData2020_2021, 2, '2020_2021')"
   ]
  },
  {
   "cell_type": "code",
   "execution_count": 11,
   "metadata": {
    "id": "Fiop2iOIwJDd"
   },
   "outputs": [],
   "source": [
    "# Clean 'schoolyear' column\n",
    "MIData2015_2016c['schoolyear'] = '2015-2016'\n",
    "MIData2016_2017c['schoolyear'] = '2016-2017'\n",
    "MIData2017_2018c['schoolyear'] = '2017-2018'\n",
    "MIData2018_2019c['schoolyear'] = '2018-2019'\n",
    "MIData2020_2021c['schoolyear'] = '2020-2021'"
   ]
  },
  {
   "cell_type": "code",
   "execution_count": 14,
   "metadata": {
    "colab": {
     "base_uri": "https://localhost:8080/"
    },
    "id": "Kw8IHrgHngOZ",
    "outputId": "4955fca1-4f70-4393-9c70-f37dcf41c3cc"
   },
   "outputs": [],
   "source": [
    "# Identify schools in each year\n",
    "MIData2015_2016c_School_List = MIData2015_2016c['districtcode'].tolist()\n",
    "MIData2016_2017c_School_List = MIData2016_2017c['districtcode'].tolist()\n",
    "MIData2017_2018c_School_List = MIData2017_2018c['districtcode'].tolist()\n",
    "MIData2018_2019c_School_List = MIData2018_2019c['districtcode'].tolist()\n",
    "MIData2020_2021c_School_List = MIData2020_2021c['districtcode'].tolist()\n",
    "\n",
    "# Create list of schools in every year\n",
    "five_four = list(set(MIData2020_2021c_School_List).intersection(set(MIData2018_2019c_School_List)))\n",
    "five_four_three = list(set(five_four).intersection(set(MIData2017_2018c_School_List)))\n",
    "five_four_three_two = list(set(five_four_three).intersection(set(MIData2016_2017c_School_List)))\n",
    "five_four_three_two_one = list(set(five_four_three_two).intersection(set(MIData2015_2016c_School_List)))\n",
    "\n",
    "# Filter dataframes using list of schools present in every year\n",
    "MIData2015_2016c = MIData2015_2016c[MIData2015_2016c['districtcode'].isin(five_four_three_two_one)]\n",
    "MIData2016_2017c = MIData2016_2017c[MIData2016_2017c['districtcode'].isin(five_four_three_two_one)]\n",
    "MIData2017_2018c = MIData2017_2018c[MIData2017_2018c['districtcode'].isin(five_four_three_two_one)]\n",
    "MIData2018_2019c = MIData2018_2019c[MIData2018_2019c['districtcode'].isin(five_four_three_two_one)]\n",
    "MIData2020_2021c = MIData2020_2021c[MIData2020_2021c['districtcode'].isin(five_four_three_two_one)]"
   ]
  },
  {
   "cell_type": "markdown",
   "metadata": {
    "id": "N-JOyqjQ52cj"
   },
   "source": [
    "# All Other Metrics"
   ]
  },
  {
   "cell_type": "code",
   "execution_count": 16,
   "metadata": {
    "id": "qOmgMwj2eyNa"
   },
   "outputs": [],
   "source": [
    "# Filter dataframe to only include schools in the MIData_Scores dataframe (341 schools)\n",
    "# df1 is the attendance, etc dataframe. df2 is the currated MIData_Scores dataframe\n",
    "\n",
    "def filter_schools(df1, df2):\n",
    "  \n",
    "  # setting the base for the left semi-join in python\n",
    "  semi = df1.merge(df2, on = 'districtcode')\n",
    "  df1['districtcode'].isin(df2['districtcode'])\n",
    "  semi = df1.merge(df2, on = 'districtcode')\n",
    "  \n",
    "  # our left semi join\n",
    "  new_semi=df1[df1['districtcode'].isin(semi['districtcode'])]\n",
    "  return pd.DataFrame(new_semi)"
   ]
  },
  {
   "cell_type": "code",
   "execution_count": 28,
   "metadata": {
    "id": "gxPiu3CCKt2C"
   },
   "outputs": [],
   "source": [
    "# Import csv files downloaded from State of Michigan website\n",
    "Attendance_2015_2016 = pd.read_csv(path+'/1_CSV_Data/2015_2016_Attendance.csv') \n",
    "Attendance_2016_2017 = pd.read_csv(path+'/1_CSV_Data/2016_2017_Attendance.csv') \n",
    "Attendance_2017_2018 = pd.read_csv(path+'/1_CSV_Data/2017_2018_Attendance.csv') \n",
    "Attendance_2018_2019 = pd.read_csv(path+'/1_CSV_Data/2018_2019_Attendance.csv') \n",
    "Attendance_2020_2021 = pd.read_csv(path+'/1_CSV_Data/2020_2021_Attendance.csv') \n",
    "\n",
    "Ed_Effective_2015_2016 = pd.read_csv(path+'/1_CSV_Data/2015_2016_Educator_Effectiveness.csv') \n",
    "Ed_Effective_2016_2017 = pd.read_csv(path+'/1_CSV_Data/2016_2017_Educator_Effectiveness.csv') \n",
    "Ed_Effective_2017_2018 = pd.read_csv(path+'/1_CSV_Data/2017_2018_Educator_Effectiveness.csv') \n",
    "Ed_Effective_2018_2019 = pd.read_csv(path+'/1_CSV_Data/2018_2019_Educator_Effectiveness.csv') \n",
    "Ed_Effective_2020_2021 = pd.read_csv(path+'/1_CSV_Data/2020_2021_Educator_Effectiveness.csv') \n",
    "\n",
    "Finance_2015_2016 = pd.read_csv(path+'/1_CSV_Data/2015_2016_Financial_Reports.csv') \n",
    "# Fix Detroit name for 2015-2016 school year\n",
    "df1 = pd.DataFrame([[np.nan] * len(Finance_2015_2016.columns)], columns=Finance_2015_2016.columns)\n",
    "Finance_2015_2016 = df1.append(Finance_2015_2016, ignore_index=True)\n",
    "Finance_2015_2016.at[0, 'District Code'] = '82015'\n",
    "Finance_2015_2016.at[0, 'District Name'] = 'Detroit Public Schools Community District'\n",
    "\n",
    "Finance_2016_2017 = pd.read_csv(path+'/1_CSV_Data/2016_2017_Financial_Reports.csv') \n",
    "Finance_2017_2018 = pd.read_csv(path+'/1_CSV_Data/2017_2018_Financial_Reports.csv') \n",
    "Finance_2018_2019 = pd.read_csv(path+'/1_CSV_Data/2018_2019_Financial_Reports.csv') \n",
    "Finance_2020_2021 = pd.read_csv(path+'/1_CSV_Data/2020_2021_Financial_Reports.csv') \n",
    "\n",
    "Staff_2015_2016 = pd.read_csv(path+'/1_CSV_Data/2015_2016_Staffing_Count.csv') \n",
    "Staff_2016_2017 = pd.read_csv(path+'/1_CSV_Data/2016_2017_Staffing_Count.csv') \n",
    "Staff_2017_2018 = pd.read_csv(path+'/1_CSV_Data/2017_2018_Staffing_Count.csv') \n",
    "Staff_2018_2019 = pd.read_csv(path+'/1_CSV_Data/2018_2019_Staffing_Count.csv') \n",
    "Staff_2020_2021 = pd.read_csv(path+'/1_CSV_Data/2020_2021_Staffing_Count.csv') \n",
    "\n",
    "Student_2015_2016 = pd.read_csv(path+'/1_CSV_Data/2015_2016_Student_Count.csv') \n",
    "Student_2016_2017 = pd.read_csv(path+'/1_CSV_Data/2016_2017_Student_Count.csv') \n",
    "Student_2017_2018 = pd.read_csv(path+'/1_CSV_Data/2017_2018_Student_Count.csv') \n",
    "Student_2018_2019 = pd.read_csv(path+'/1_CSV_Data/2018_2019_Student_Count.csv') \n",
    "Student_2020_2021 = pd.read_csv(path+'/1_CSV_Data/2020_2021_Student_Count.csv') "
   ]
  },
  {
   "cell_type": "markdown",
   "metadata": {
    "id": "99M2sEN0Gjm4"
   },
   "source": [
    "# Attendance"
   ]
  },
  {
   "cell_type": "code",
   "execution_count": 29,
   "metadata": {
    "id": "ALp1Oh5J58ub"
   },
   "outputs": [],
   "source": [
    "# Clean attendance dataframes\n",
    "def clean_attendance(df, year):\n",
    "  df = df.rename(columns=lambda x: x.strip())\n",
    "  df.columns = df.columns.str.lower()  \n",
    "  df = df.loc[df['buildingname'] == 'All Buildings']\n",
    "  df = df.loc[df['reportcategory'] == 'Grade']\n",
    "  df = df.loc[df['reportsubgroup'] == 'All']\n",
    "  df['schoolyear'] = year\n",
    "  df = df[['districtcode', 'ar_allstudents']] # AR_AllStudents is attendance rate all students\n",
    "  df = df.rename(columns = {'ar_allstudents' : 'attendance'})\n",
    "  df['districtcode'] = df['districtcode'].astype(str)\n",
    "  df = df.sort_values('districtcode')\n",
    "  \n",
    "  return df"
   ]
  },
  {
   "cell_type": "code",
   "execution_count": 30,
   "metadata": {
    "id": "laspvOlr581L"
   },
   "outputs": [],
   "source": [
    "Attendance_2015_2016c = clean_attendance(Attendance_2015_2016, '2015-2016')\n",
    "Attendance_2016_2017c = clean_attendance(Attendance_2016_2017, '2016-2017')\n",
    "Attendance_2017_2018c = clean_attendance(Attendance_2017_2018, '2017-2018')\n",
    "Attendance_2018_2019c = clean_attendance(Attendance_2018_2019, '2018-2019')\n",
    "Attendance_2020_2021c = clean_attendance(Attendance_2020_2021, '2020-2021')\n",
    "\n",
    "Attendance_2015_2016cc = filter_schools(Attendance_2015_2016c, MIData2020_2021c)\n",
    "Attendance_2016_2017cc = filter_schools(Attendance_2016_2017c, MIData2020_2021c)\n",
    "Attendance_2017_2018cc = filter_schools(Attendance_2017_2018c, MIData2020_2021c)\n",
    "Attendance_2018_2019cc = filter_schools(Attendance_2018_2019c, MIData2020_2021c)\n",
    "Attendance_2020_2021cc = filter_schools(Attendance_2020_2021c, MIData2020_2021c)"
   ]
  },
  {
   "cell_type": "markdown",
   "metadata": {
    "id": "ACdIBwToiPXB"
   },
   "source": [
    "# Student Count"
   ]
  },
  {
   "cell_type": "code",
   "execution_count": 33,
   "metadata": {
    "id": "qhaM5qGw58-n"
   },
   "outputs": [],
   "source": [
    " # Clean student count dataframe \n",
    "def clean_student(df, year):\n",
    "  df = df.rename(columns=lambda x: x.strip())\n",
    "  df.columns = df.columns.str.lower()  \n",
    "  df = df.loc[df['buildingname'] == 'All Buildings']\n",
    "  # df = df.loc[df['reportcategory'] == 'Grade']\n",
    "  # df = df.loc[df['reportsubgroup'] == 'All']\n",
    "  df['schoolyear'] = year\n",
    "  df = df[['districtcode', 'american_indian_enrollment', 'asian_enrollment',\n",
    "      'english_language_learners_enrollment', 'early_middle_college_enrollment']]\n",
    "\n",
    "  # Replace <=10%, etc. with integers\n",
    "  df.loc[df.english_language_learners_enrollment == '<10', 'english_language_learners_enrollment'] = 5\n",
    "  df['districtcode'] = df['districtcode'].astype('Int64')\n",
    "  df['districtcode'] = df['districtcode'].astype(str)\n",
    "  df = df.sort_values('districtcode')\n",
    "\n",
    "  return df"
   ]
  },
  {
   "cell_type": "code",
   "execution_count": 34,
   "metadata": {
    "id": "tmIBFfL7iGKs"
   },
   "outputs": [],
   "source": [
    "Student_2015_2016c = clean_student(Student_2015_2016, '2015-2016')\n",
    "Student_2016_2017c = clean_student(Student_2016_2017, '2016-2017')\n",
    "Student_2017_2018c = clean_student(Student_2017_2018, '2017-2018')\n",
    "Student_2018_2019c = clean_student(Student_2018_2019, '2018-2019')\n",
    "Student_2020_2021c = clean_student(Student_2020_2021, '2020-2021')\n",
    "\n",
    "Student_2015_2016cc = filter_schools(Student_2015_2016c, MIData2020_2021c)\n",
    "Student_2016_2017cc = filter_schools(Student_2016_2017c, MIData2020_2021c)\n",
    "Student_2017_2018cc = filter_schools(Student_2017_2018c, MIData2020_2021c)\n",
    "Student_2018_2019cc = filter_schools(Student_2018_2019c, MIData2020_2021c)\n",
    "Student_2020_2021cc = filter_schools(Student_2020_2021c, MIData2020_2021c)"
   ]
  },
  {
   "cell_type": "markdown",
   "metadata": {
    "id": "pDuOhyYF-0Ns"
   },
   "source": [
    "# Educator Effectiveness:  Admin Ineffective, Admin Minimally Effective, Teacher Minimally Effective"
   ]
  },
  {
   "cell_type": "code",
   "execution_count": 35,
   "metadata": {
    "id": "xQpqQmbjiGa9"
   },
   "outputs": [],
   "source": [
    "# Clean administration ineffective dataframes  \n",
    "def clean_admin_ineffective(df, year):\n",
    "  df = df.rename(columns=lambda x: x.strip())\n",
    "  df.columns = df.columns.str.lower()  \n",
    "  # df = df.loc[df['buildingname'] == 'All Buildings']\n",
    "  df = df.loc[df['assignment_type'] == 'Administrator']\n",
    "  df = df.loc[df['effectiveness_category'] == 'Ineffective']\n",
    "  df['schoolyear'] = year\n",
    "  df = df.rename(columns={'district code': 'districtcode', 'district name': 'districtname', 'percentage':'admin_ineffective_percentage'})\n",
    "  df = df[['districtcode', 'admin_ineffective_percentage']]\n",
    "  df['districtcode'] = df['districtcode'].astype(str)\n",
    "\n",
    "  return df"
   ]
  },
  {
   "cell_type": "code",
   "execution_count": 36,
   "metadata": {
    "id": "zM70rIokCeT6"
   },
   "outputs": [],
   "source": [
    "Admin_ineffective_2015_2016c = clean_admin_ineffective(Ed_Effective_2015_2016, '2015-2016')\n",
    "Admin_ineffective_2016_2017c = clean_admin_ineffective(Ed_Effective_2016_2017, '2016-2017')\n",
    "Admin_ineffective_2017_2018c = clean_admin_ineffective(Ed_Effective_2017_2018, '2017-2018')\n",
    "Admin_ineffective_2018_2019c = clean_admin_ineffective(Ed_Effective_2018_2019, '2018-2019')\n",
    "Admin_ineffective_2020_2021c = clean_admin_ineffective(Ed_Effective_2020_2021, '2020-2021')\n",
    "\n",
    "Admin_ineffective_2015_2016cc = filter_schools(Admin_ineffective_2015_2016c, MIData2020_2021c)\n",
    "Admin_ineffective_2016_2017cc = filter_schools(Admin_ineffective_2016_2017c, MIData2020_2021c)\n",
    "Admin_ineffective_2017_2018cc = filter_schools(Admin_ineffective_2017_2018c, MIData2020_2021c)\n",
    "Admin_ineffective_2018_2019cc = filter_schools(Admin_ineffective_2018_2019c, MIData2020_2021c)\n",
    "Admin_ineffective_2020_2021cc = filter_schools(Admin_ineffective_2020_2021c, MIData2020_2021c)"
   ]
  },
  {
   "cell_type": "code",
   "execution_count": 39,
   "metadata": {
    "id": "PhaxiALqHf5B"
   },
   "outputs": [],
   "source": [
    "# Clean administration minimally effective dataframes  \n",
    "def clean_admin_min_effective(df, year):\n",
    "  df = df.rename(columns=lambda x: x.strip())\n",
    "  df.columns = df.columns.str.lower()  \n",
    "  df = df.loc[df['assignment_type'] == 'Administrator']\n",
    "  df = df.loc[df['effectiveness_category'] == 'MinimallyEffective']\n",
    "  df['schoolyear'] = year\n",
    "  df = df.rename(columns={'district code': 'districtcode', 'district name': 'districtname', 'percentage':'admin_min_effective_percentage'})\n",
    "  df = df[['districtcode', 'admin_min_effective_percentage']]\n",
    "  df['districtcode'] = df['districtcode'].astype(str)\n",
    "\n",
    "  return df"
   ]
  },
  {
   "cell_type": "code",
   "execution_count": 40,
   "metadata": {
    "id": "7G9QEqxoHgIU"
   },
   "outputs": [],
   "source": [
    "Admin_min_effective_2015_2016c = clean_admin_min_effective(Ed_Effective_2015_2016, '2015-2016')\n",
    "Admin_min_effective_2016_2017c = clean_admin_min_effective(Ed_Effective_2016_2017, '2016-2017')\n",
    "Admin_min_effective_2017_2018c = clean_admin_min_effective(Ed_Effective_2017_2018, '2017-2018')\n",
    "Admin_min_effective_2018_2019c = clean_admin_min_effective(Ed_Effective_2018_2019, '2018-2019')\n",
    "Admin_min_effective_2020_2021c = clean_admin_min_effective(Ed_Effective_2020_2021, '2020-2021')\n",
    "\n",
    "Admin_min_effective_2015_2016cc = filter_schools(Admin_min_effective_2015_2016c, MIData2020_2021c)\n",
    "Admin_min_effective_2016_2017cc = filter_schools(Admin_min_effective_2016_2017c, MIData2020_2021c)\n",
    "Admin_min_effective_2017_2018cc = filter_schools(Admin_min_effective_2017_2018c, MIData2020_2021c)\n",
    "Admin_min_effective_2018_2019cc = filter_schools(Admin_min_effective_2018_2019c, MIData2020_2021c)\n",
    "Admin_min_effective_2020_2021cc = filter_schools(Admin_min_effective_2020_2021c, MIData2020_2021c)"
   ]
  },
  {
   "cell_type": "code",
   "execution_count": 41,
   "metadata": {
    "id": "g8sO2GGRJvB7"
   },
   "outputs": [],
   "source": [
    "# Clean teacher minimally effective dataframes  \n",
    "def clean_teacher_min_effective(df, year):\n",
    "  df = df.rename(columns=lambda x: x.strip())\n",
    "  df.columns = df.columns.str.lower()  \n",
    "  df = df.loc[df['building name'] == 'All Buildings']\n",
    "  df = df.loc[df['assignment_type'] == 'Teacher']\n",
    "  df = df.loc[df['effectiveness_category'] == 'MinimallyEffective']\n",
    "  df['schoolyear'] = year\n",
    "  df = df.rename(columns={'district code': 'districtcode', 'district name': 'districtname', 'percentage':'teacher_min_effective_percentage'})\n",
    "  df = df[['districtcode', 'teacher_min_effective_percentage']]\n",
    "  df['districtcode'] = df['districtcode'].astype(str)\n",
    "\n",
    "  return df"
   ]
  },
  {
   "cell_type": "code",
   "execution_count": 42,
   "metadata": {
    "id": "sgwjii1HJvSv"
   },
   "outputs": [],
   "source": [
    "Teacher_min_effective_2015_2016c = clean_teacher_min_effective(Ed_Effective_2015_2016, '2015-2016')\n",
    "Teacher_min_effective_2016_2017c = clean_teacher_min_effective(Ed_Effective_2016_2017, '2016-2017')\n",
    "Teacher_min_effective_2017_2018c = clean_teacher_min_effective(Ed_Effective_2017_2018, '2017-2018')\n",
    "Teacher_min_effective_2018_2019c = clean_teacher_min_effective(Ed_Effective_2018_2019, '2018-2019')\n",
    "Teacher_min_effective_2020_2021c = clean_teacher_min_effective(Ed_Effective_2020_2021, '2020-2021')\n",
    "\n",
    "Teacher_min_effective_2015_2016cc = filter_schools(Teacher_min_effective_2015_2016c, MIData2020_2021c)\n",
    "Teacher_min_effective_2016_2017cc = filter_schools(Teacher_min_effective_2016_2017c, MIData2020_2021c)\n",
    "Teacher_min_effective_2017_2018cc = filter_schools(Teacher_min_effective_2017_2018c, MIData2020_2021c)\n",
    "Teacher_min_effective_2018_2019cc = filter_schools(Teacher_min_effective_2018_2019c, MIData2020_2021c)\n",
    "Teacher_min_effective_2020_2021cc = filter_schools(Teacher_min_effective_2020_2021c, MIData2020_2021c)"
   ]
  },
  {
   "cell_type": "markdown",
   "metadata": {
    "id": "ZEExAi2Kq66Z"
   },
   "source": [
    "# Finance\n",
    "\n"
   ]
  },
  {
   "cell_type": "code",
   "execution_count": 43,
   "metadata": {
    "id": "Sg2rwOqCq6sR"
   },
   "outputs": [],
   "source": [
    "# Clean finance dataframes  \n",
    "def clean_finance(df, year):\n",
    "  df = df.rename(columns=lambda x: x.strip())\n",
    "  df.columns = df.columns.str.lower()  \n",
    "\n",
    "  df = df.rename(columns={'district code': 'districtcode', 'district name': 'districtname', 'fiscal year':'fiscalyear', 'fund balance as % of expenditure':'fundbalanceas%ofexpenditure'})\n",
    "  df['fiscalyear'] = year\n",
    "  df = df[['districtcode', 'fundbalanceas%ofexpenditure']]\n",
    "  df['districtcode'] = df['districtcode'].astype('Int64')\n",
    "  df['districtcode'] = df['districtcode'].astype(str)\n",
    "  \n",
    "  return df"
   ]
  },
  {
   "cell_type": "code",
   "execution_count": 44,
   "metadata": {
    "colab": {
     "base_uri": "https://localhost:8080/"
    },
    "id": "Q4k2_HZ7rDur",
    "outputId": "1e548e0d-3ba5-4ada-9598-a235b590fa27"
   },
   "outputs": [],
   "source": [
    "Finance_2015_2016c = clean_finance(Finance_2015_2016, '2015-2016')\n",
    "Finance_2016_2017c = clean_finance(Finance_2016_2017, '2016-2017')\n",
    "Finance_2017_2018c = clean_finance(Finance_2017_2018, '2017-2018')\n",
    "Finance_2018_2019c = clean_finance(Finance_2018_2019, '2018-2019')\n",
    "Finance_2020_2021c = clean_finance(Finance_2020_2021, '2020-2021')\n",
    "\n",
    "Finance_2015_2016cc = filter_schools(Finance_2015_2016c, MIData2020_2021c)\n",
    "Finance_2016_2017cc = filter_schools(Finance_2016_2017c, MIData2020_2021c)\n",
    "Finance_2017_2018cc = filter_schools(Finance_2017_2018c, MIData2020_2021c)\n",
    "Finance_2018_2019cc = filter_schools(Finance_2018_2019c, MIData2020_2021c)\n",
    "Finance_2020_2021cc = filter_schools(Finance_2020_2021c, MIData2020_2021c)"
   ]
  },
  {
   "cell_type": "markdown",
   "metadata": {
    "id": "hk7u7Hqhmfe5"
   },
   "source": [
    "# Demographic data from American Community Survey"
   ]
  },
  {
   "cell_type": "code",
   "execution_count": null,
   "metadata": {
    "id": "N2K1Gl3UmfPT"
   },
   "outputs": [],
   "source": [
    "Demographic_Data = pd.read_csv(path+'/1_CSV_Data/Demographic_Data_Original.csv') \n",
    "Demographic_Data = Demographic_Data.rename(columns={'SchoolDistrict': 'districtname'})"
   ]
  },
  {
   "cell_type": "markdown",
   "metadata": {
    "id": "34bH5ff6vGwm"
   },
   "source": [
    "# Merge"
   ]
  },
  {
   "cell_type": "code",
   "execution_count": null,
   "metadata": {
    "id": "BgiQsr6YvGe9"
   },
   "outputs": [],
   "source": [
    "# Combine all dataframes\n",
    "df2015_2016 = pd.merge(MIData2015_2016c,Attendance_2015_2016cc,on='districtcode')\n",
    "df2015_2016 = pd.merge(df2015_2016,Student_2015_2016cc,on='districtcode')\n",
    "df2015_2016 = pd.merge(df2015_2016,Admin_ineffective_2015_2016cc,on='districtcode')\n",
    "df2015_2016 = pd.merge(df2015_2016,Admin_min_effective_2015_2016cc,on='districtcode')\n",
    "df2015_2016 = pd.merge(df2015_2016,Teacher_min_effective_2015_2016cc,on='districtcode')\n",
    "df2015_2016 = pd.merge(df2015_2016,Finance_2015_2016cc,on='districtcode')\n",
    "\n",
    "df2016_2017 = pd.merge(MIData2016_2017c,Attendance_2016_2017cc,on='districtcode')\n",
    "df2016_2017 = pd.merge(df2016_2017,Student_2016_2017cc,on='districtcode')\n",
    "df2016_2017 = pd.merge(df2016_2017,Admin_ineffective_2016_2017cc,on='districtcode')\n",
    "df2016_2017 = pd.merge(df2016_2017,Admin_min_effective_2016_2017cc,on='districtcode')\n",
    "df2016_2017 = pd.merge(df2016_2017,Teacher_min_effective_2016_2017cc,on='districtcode')\n",
    "df2016_2017 = pd.merge(df2016_2017,Finance_2016_2017cc,on='districtcode')\n",
    "\n",
    "df2017_2018 = pd.merge(MIData2017_2018c,Attendance_2017_2018cc,on='districtcode')\n",
    "df2017_2018 = pd.merge(df2017_2018,Student_2017_2018cc,on='districtcode')\n",
    "df2017_2018 = pd.merge(df2017_2018,Admin_ineffective_2017_2018cc,on='districtcode')\n",
    "df2017_2018 = pd.merge(df2017_2018,Admin_min_effective_2017_2018cc,on='districtcode')\n",
    "df2017_2018 = pd.merge(df2017_2018,Teacher_min_effective_2017_2018cc,on='districtcode')\n",
    "df2017_2018 = pd.merge(df2017_2018,Finance_2017_2018cc,on='districtcode')\n",
    "\n",
    "df2018_2019 = pd.merge(MIData2018_2019c,Attendance_2018_2019cc,on='districtcode')\n",
    "df2018_2019 = pd.merge(df2018_2019,Student_2018_2019cc,on='districtcode')\n",
    "df2018_2019 = pd.merge(df2018_2019,Admin_ineffective_2018_2019cc,on='districtcode')\n",
    "df2018_2019 = pd.merge(df2018_2019,Admin_min_effective_2018_2019cc,on='districtcode')\n",
    "df2018_2019 = pd.merge(df2018_2019,Teacher_min_effective_2018_2019cc,on='districtcode')\n",
    "df2018_2019 = pd.merge(df2018_2019,Finance_2018_2019cc,on='districtcode')\n",
    "\n",
    "df2020_2021 = pd.merge(MIData2020_2021c,Attendance_2020_2021cc,on='districtcode')\n",
    "df2020_2021 = pd.merge(df2020_2021,Student_2020_2021cc,on='districtcode')\n",
    "df2020_2021 = pd.merge(df2020_2021,Admin_ineffective_2020_2021cc,on='districtcode')\n",
    "df2020_2021 = pd.merge(df2020_2021,Admin_min_effective_2020_2021cc,on='districtcode')\n",
    "df2020_2021 = pd.merge(df2020_2021,Teacher_min_effective_2020_2021cc,on='districtcode')\n",
    "df2020_2021 = pd.merge(df2020_2021,Finance_2020_2021cc,on='districtcode')\n",
    "\n",
    "Cell_Phone_DF = pd.concat([df2015_2016, df2016_2017], axis=0)\n",
    "Cell_Phone_DF = pd.concat([Cell_Phone_DF, df2017_2018], axis=0)\n",
    "Cell_Phone_DF = pd.concat([Cell_Phone_DF, df2018_2019], axis=0)\n",
    "Cell_Phone_DF = pd.concat([Cell_Phone_DF, df2020_2021], axis=0)\n",
    "\n",
    "# Merge academic data and demographic data\n",
    "Cell_Phone_DF = pd.merge(Cell_Phone_DF ,Demographic_Data , on = 'districtname')\n",
    "\n",
    "# Drop districts with cell phone bans besides Forest Hills Public Schools, and schools who might have a cell phone ban\n",
    "Cell_Phone_DF = Cell_Phone_DF.drop(Cell_Phone_DF[Cell_Phone_DF.districtname == 'Grosse Pointe Public Schools'].index) \n",
    "Cell_Phone_DF = Cell_Phone_DF.drop(Cell_Phone_DF[Cell_Phone_DF.districtname == 'Ionia Public Schools'].index) \n",
    "Cell_Phone_DF = Cell_Phone_DF.drop(Cell_Phone_DF[Cell_Phone_DF.districtname == 'Plymouth-Canton Community Schools'].index) \n",
    "Cell_Phone_DF = Cell_Phone_DF.drop(Cell_Phone_DF[Cell_Phone_DF.districtname == 'Hopkins Public Schools'].index) \n",
    "Cell_Phone_DF = Cell_Phone_DF.drop(Cell_Phone_DF[Cell_Phone_DF.districtname == 'St. Charles Community Schools'].index) \n",
    "Cell_Phone_DF = Cell_Phone_DF.drop(Cell_Phone_DF[Cell_Phone_DF.districtname == 'Swan Valley School District'].index)\n",
    "Cell_Phone_DF = Cell_Phone_DF.drop(Cell_Phone_DF[Cell_Phone_DF.districtname == 'Croswell-Lexington Community Schools'].index) \n",
    "Cell_Phone_DF = Cell_Phone_DF.drop(Cell_Phone_DF[Cell_Phone_DF.districtname == 'Capac Community Schools'].index) \n",
    "Cell_Phone_DF = Cell_Phone_DF.drop(Cell_Phone_DF[Cell_Phone_DF.districtname == 'Colon Community Schools'].index) \n",
    "Cell_Phone_DF = Cell_Phone_DF.drop(Cell_Phone_DF[Cell_Phone_DF.districtname == 'Cass City Public Schools'].index) \n",
    "Cell_Phone_DF = Cell_Phone_DF.drop(Cell_Phone_DF[Cell_Phone_DF.districtname == 'Crestwood School District'].index) \n",
    "Cell_Phone_DF = Cell_Phone_DF.drop(Cell_Phone_DF[Cell_Phone_DF.districtname == 'The School District of the City of Harper Woods'].index) \n",
    "Cell_Phone_DF = Cell_Phone_DF.drop(Cell_Phone_DF[Cell_Phone_DF.districtname == 'Onaway Area Community School District'].index) \n",
    "Cell_Phone_DF = Cell_Phone_DF.drop(Cell_Phone_DF[Cell_Phone_DF.districtname == 'Lakeview School District'].index) \n",
    "\n",
    "Cell_Phone_DF = Cell_Phone_DF.sort_values(by = ['districtcode', 'schoolyear'])\n",
    "\n",
    "# Three columns have nan that should be 0: ['admin_ineffective_percentage', 'admin_min_effective_percentage', 'teacher_min_effective_percentage']\n",
    "Cell_Phone_DF = Cell_Phone_DF.fillna(0)"
   ]
  },
  {
   "cell_type": "code",
   "execution_count": null,
   "metadata": {
    "id": "pzECR027SYzv"
   },
   "outputs": [],
   "source": [
    "# Reduce the number of covariates\n",
    "Cell_Phone_DF10 = Cell_Phone_DF[['districtcode', 'schoolyear', 'districtname', '8th_math_percentmet', 'english_language_learners_enrollment',\n",
    "       'attendance', 'english_language_learners_enrollment', 'admin_min_effective_percentage', 'teacher_min_effective_percentage',\n",
    "         'Estimate Median household income in the past 12 months (in 2018 inflation-adjusted dollars)', \"Estimate Total Bachelor's degree\", \"Estimate Total Master's degree\",\n",
    "         'fundbalanceas%ofexpenditure', 'Estimate Total Living in household with Supplemental Security Income (SSI), cash public assistance income, or Food Stamps/SNAP in the past 12 months']]\n",
    "\n",
    "Cell_Phone_DF5 = Cell_Phone_DF[['districtcode', 'schoolyear', 'districtname', '8th_math_percentmet',\n",
    "       'attendance', 'teacher_min_effective_percentage',\n",
    "         'Estimate Median household income in the past 12 months (in 2018 inflation-adjusted dollars)',\n",
    "         'fundbalanceas%ofexpenditure', 'Estimate Total Living in household with Supplemental Security Income (SSI), cash public assistance income, or Food Stamps/SNAP in the past 12 months']]"
   ]
  },
  {
   "cell_type": "markdown",
   "metadata": {
    "id": "SjopAOVYo6wY"
   },
   "source": [
    "# Save to file"
   ]
  },
  {
   "cell_type": "code",
   "execution_count": null,
   "metadata": {
    "id": "wWyM3cHco7Bk"
   },
   "outputs": [],
   "source": [
    "Cell_Phone_DF.to_csv(path+'/1_CSV_Data/Cell_Phone_DF.csv')\n",
    "Cell_Phone_DF5.to_csv(path+'/1_CSV_Data/Cell_Phone_DF5.csv')\n",
    "Cell_Phone_DF10.to_csv(path+'/1_CSV_Data/Cell_Phone_DF10.csv')"
   ]
  }
 ],
 "metadata": {
  "colab": {
   "name": "1_Clean_MI_Academic_Data.ipynb",
   "provenance": []
  },
  "kernelspec": {
   "display_name": "Python 3 (ipykernel)",
   "language": "python",
   "name": "python3"
  },
  "language_info": {
   "codemirror_mode": {
    "name": "ipython",
    "version": 3
   },
   "file_extension": ".py",
   "mimetype": "text/x-python",
   "name": "python",
   "nbconvert_exporter": "python",
   "pygments_lexer": "ipython3",
   "version": "3.7.6"
  }
 },
 "nbformat": 4,
 "nbformat_minor": 1
}

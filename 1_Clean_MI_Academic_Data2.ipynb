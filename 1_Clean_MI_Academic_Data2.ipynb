{
  "nbformat": 4,
  "nbformat_minor": 0,
  "metadata": {
    "colab": {
      "name": "1_Clean_MI_Academic_Data.ipynb",
      "provenance": []
    },
    "kernelspec": {
      "name": "python3",
      "display_name": "Python 3"
    },
    "language_info": {
      "name": "python"
    }
  },
  "cells": [
    {
      "cell_type": "code",
      "execution_count": null,
      "metadata": {
        "colab": {
          "base_uri": "https://localhost:8080/"
        },
        "id": "WaNLXJtxc6KM",
        "outputId": "f56bef87-11f8-463c-eea1-27c96e7e6a4a"
      },
      "outputs": [
        {
          "output_type": "stream",
          "name": "stdout",
          "text": [
            "Mounted at /drive\n"
          ]
        }
      ],
      "source": [
        "# Imports\n",
        "import pandas as pd\n",
        "import numpy as np\n",
        "from google.colab import files\n",
        "from google.colab import drive\n",
        "drive.mount('/drive')"
      ]
    },
    {
      "cell_type": "markdown",
      "source": [
        "# Import and clean 8th grade math scores for each year"
      ],
      "metadata": {
        "id": "68gw-8IZrcqO"
      }
    },
    {
      "cell_type": "code",
      "source": [
        "# Import csv files downloaded from State of Michigan website\n",
        "MIData2015_2016 = pd.read_csv('/drive/My Drive/SIADS_697_698_Capstone/4_Colabs/2_Michigan_Academic_Data_from_MI_School_Data/1_Raw_Data/Grades_3_8_2015_2016.csv') \n",
        "MIData2016_2017 = pd.read_csv('/drive/My Drive/SIADS_697_698_Capstone/4_Colabs/2_Michigan_Academic_Data_from_MI_School_Data/1_Raw_Data/Grades_3_8_2016_2017.csv') \n",
        "MIData2017_2018 = pd.read_csv('/drive/My Drive/SIADS_697_698_Capstone/4_Colabs/2_Michigan_Academic_Data_from_MI_School_Data/1_Raw_Data/Grades_3_8_2017_2018.csv') \n",
        "MIData2018_2019 = pd.read_csv('/drive/My Drive/SIADS_697_698_Capstone/4_Colabs/2_Michigan_Academic_Data_from_MI_School_Data/1_Raw_Data/Grades_3_8_2018_2019.csv') \n",
        "MIData2020_2021 = pd.read_csv('/drive/My Drive/SIADS_697_698_Capstone/4_Colabs/2_Michigan_Academic_Data_from_MI_School_Data/1_Raw_Data/Grades_3_8_2020_2021.csv') "
      ],
      "metadata": {
        "colab": {
          "base_uri": "https://localhost:8080/"
        },
        "id": "QIp6r8nYeVhG",
        "outputId": "a63ba6c1-e8e8-4fae-f350-c3a54b71b913"
      },
      "execution_count": null,
      "outputs": [
        {
          "output_type": "stream",
          "name": "stderr",
          "text": [
            "/usr/local/lib/python3.7/dist-packages/IPython/core/interactiveshell.py:2882: DtypeWarning: Columns (2,9,19,20,21,22,23,24,25,29,30,31,32,33,34,35,38,39,40,41,42,43,44,45) have mixed types.Specify dtype option on import or set low_memory=False.\n",
            "  exec(code_obj, self.user_global_ns, self.user_ns)\n",
            "/usr/local/lib/python3.7/dist-packages/IPython/core/interactiveshell.py:2882: DtypeWarning: Columns (2,9,19,20,21,22,23,24,25,29,30,31,32,33,34,35,38,40,41,42,43,44,45) have mixed types.Specify dtype option on import or set low_memory=False.\n",
            "  exec(code_obj, self.user_global_ns, self.user_ns)\n"
          ]
        }
      ]
    },
    {
      "cell_type": "code",
      "source": [
        "# Function to clean the dataframe for each school year's data\n",
        "def clean_dataframe(df, marker, year):\n",
        "  df = df.rename(columns=lambda x: x.strip())\n",
        "  df.columns = df.columns.str.lower()  \n",
        "  df = df[df['gradecontenttested'] == 8]\n",
        "  df = df[['schoolyear', 'testtype', 'isdcode', 'isdname',\n",
        "       'districtcode', 'districtname', 'buildingcode', 'buildingname',\n",
        "       'countycode', 'countyname', 'entitytype', 'schoollevel', 'locale',\n",
        "       'mistem_name', 'mistem_code', 'gradecontenttested', 'subject', 'reportcategory',\n",
        "       'numberassessed', 'percentmet']]\n",
        "  df = df[df['subject'].str.contains('Mathematics')]\n",
        "  df = df[df['reportcategory'].str.contains('All Students')]\n",
        "  df = df[df['buildingname'].str.contains('Middle')]\n",
        "\n",
        "  # Filter for test type\n",
        "  if marker == 1:\n",
        "    df = df[df['testtype'].str.contains('M-STEP')] # For years through 2017-2018 school year\n",
        "  else:\n",
        "    df = df[df['testtype'].str.contains('PSAT')] # For years after 2017-2018\n",
        "  \n",
        "  # Replace <=10%, etc. with integers\n",
        "  df.loc[df.percentmet == '>=80%', 'percentmet'] = 90\n",
        "  df.loc[df.percentmet == '>=90%', 'percentmet'] = 95\n",
        "  df.loc[df.percentmet == '<=5%', 'percentmet'] = 2.5\n",
        "  df.loc[df.percentmet == '<=10%', 'percentmet'] = 5\n",
        "  df.loc[df.percentmet == '<=20%', 'percentmet'] = 10\n",
        "  df.loc[df.percentmet == '<=50%', 'percentmet'] = np.NaN\n",
        "  df.loc[df.percentmet == '*', 'percentmet'] = np.NaN\n",
        "\n",
        "  # Trim dataframe down to essentials\n",
        "  df = df[['schoolyear', 'districtcode', 'districtname', 'buildingcode', 'buildingname',\n",
        "       'countycode', 'countyname', 'percentmet']]\n",
        "      \n",
        "  # Cast 'percentmet' column as floats\n",
        "  df['percentmet'] = df['percentmet'].astype(float) \n",
        "\n",
        "  # Groupby school district using mean of middle schools\n",
        "  df = df.groupby(['districtcode'], as_index=False).agg({'schoolyear':'first', 'districtname':'first', 'percentmet':([np.mean])})\n",
        "  df.columns = df.columns.droplevel(1)\n",
        "\n",
        "  # Name percentmet with year suffix\n",
        "  df = df.rename(columns = {'percentmet' : '8th_math_percentmet'})\n",
        "\n",
        "  # Drop rows with NaN\n",
        "  df = df.dropna()\n",
        "\n",
        "  # Cast 'districtcode' as string\n",
        "  df['districtcode'] = df['districtcode'].astype(str)\n",
        "  df = df.sort_values('districtcode')\n",
        "\n",
        "  return df"
      ],
      "metadata": {
        "id": "KHEqkODj1Jfm"
      },
      "execution_count": null,
      "outputs": []
    },
    {
      "cell_type": "code",
      "source": [
        "# Clean dataframe. Marker of 1 indicates M-STEP, 2 indicates PSAT\n",
        "MIData2015_2016c = clean_dataframe(MIData2015_2016, 1, '2015_2016')\n",
        "MIData2016_2017c = clean_dataframe(MIData2016_2017, 1, '2016_2017')\n",
        "MIData2017_2018c = clean_dataframe(MIData2017_2018, 1, '2017_2018')\n",
        "MIData2018_2019c = clean_dataframe(MIData2018_2019, 2, '2018_2019')\n",
        "MIData2020_2021c = clean_dataframe(MIData2020_2021, 2, '2020_2021')"
      ],
      "metadata": {
        "id": "d66fzf87Sfvp"
      },
      "execution_count": null,
      "outputs": []
    },
    {
      "cell_type": "code",
      "source": [
        "len(MIData2015_2016c), len(MIData2016_2017c), len(MIData2017_2018c), len(MIData2018_2019c), len(MIData2020_2021c)"
      ],
      "metadata": {
        "colab": {
          "base_uri": "https://localhost:8080/"
        },
        "id": "E22fvGxjmTnJ",
        "outputId": "cc960808-14c0-4ea7-a7e6-29b8208fb049"
      },
      "execution_count": null,
      "outputs": [
        {
          "output_type": "execute_result",
          "data": {
            "text/plain": [
              "(366, 367, 358, 359, 350)"
            ]
          },
          "metadata": {},
          "execution_count": 5
        }
      ]
    },
    {
      "cell_type": "code",
      "source": [
        "# Clean 'schoolyear' column\n",
        "MIData2015_2016c['schoolyear'] = '2015-2016'\n",
        "MIData2016_2017c['schoolyear'] = '2016-2017'\n",
        "MIData2017_2018c['schoolyear'] = '2017-2018'\n",
        "MIData2018_2019c['schoolyear'] = '2018-2019'\n",
        "MIData2020_2021c['schoolyear'] = '2020-2021'"
      ],
      "metadata": {
        "id": "Fiop2iOIwJDd"
      },
      "execution_count": null,
      "outputs": []
    },
    {
      "cell_type": "code",
      "source": [
        "# Identify schools in each year\n",
        "MIData2015_2016c_School_List = MIData2015_2016c['districtcode'].tolist()\n",
        "MIData2016_2017c_School_List = MIData2016_2017c['districtcode'].tolist()\n",
        "MIData2017_2018c_School_List = MIData2017_2018c['districtcode'].tolist()\n",
        "MIData2018_2019c_School_List = MIData2018_2019c['districtcode'].tolist()\n",
        "MIData2020_2021c_School_List = MIData2020_2021c['districtcode'].tolist()\n",
        "\n",
        "# Create list of schools in every year\n",
        "five_four = list(set(MIData2020_2021c_School_List).intersection(set(MIData2018_2019c_School_List)))\n",
        "five_four_three = list(set(five_four).intersection(set(MIData2017_2018c_School_List)))\n",
        "five_four_three_two = list(set(five_four_three).intersection(set(MIData2016_2017c_School_List)))\n",
        "five_four_three_two_one = list(set(five_four_three_two).intersection(set(MIData2015_2016c_School_List)))\n",
        "\n",
        "# Filter dataframes using list of schools present in every year\n",
        "MIData2015_2016c = MIData2015_2016c[MIData2015_2016c['districtcode'].isin(five_four_three_two_one)]\n",
        "MIData2016_2017c = MIData2016_2017c[MIData2016_2017c['districtcode'].isin(five_four_three_two_one)]\n",
        "MIData2017_2018c = MIData2017_2018c[MIData2017_2018c['districtcode'].isin(five_four_three_two_one)]\n",
        "MIData2018_2019c = MIData2018_2019c[MIData2018_2019c['districtcode'].isin(five_four_three_two_one)]\n",
        "MIData2020_2021c = MIData2020_2021c[MIData2020_2021c['districtcode'].isin(five_four_three_two_one)]\n",
        "\n",
        "# Make sure 12 schools with cell phone bans are in master list of 413 schools with scores every year\n",
        "Schools_With_Bans = ['34010', '41110', '82055', '82100']\n",
        "MIData2020_2021c.loc[MIData2020_2021c['districtcode'].isin(Schools_With_Bans)]\n",
        "type(MIData2020_2021c['districtcode'][0])"
      ],
      "metadata": {
        "colab": {
          "base_uri": "https://localhost:8080/"
        },
        "id": "Kw8IHrgHngOZ",
        "outputId": "4955fca1-4f70-4393-9c70-f37dcf41c3cc"
      },
      "execution_count": null,
      "outputs": [
        {
          "output_type": "execute_result",
          "data": {
            "text/plain": [
              "str"
            ]
          },
          "metadata": {},
          "execution_count": 7
        }
      ]
    },
    {
      "cell_type": "code",
      "source": [
        "# # Create final dataframe with 'percentmet' for each year\n",
        "# MIData_Scores = MIData2015_2016c.copy()\n",
        "# MIData_Scores['percentmet2016_2017'] = MIData2016_2017c['percentmet2016_2017'].values\n",
        "# MIData_Scores['percentmet2017_2018'] = MIData2017_2018c['percentmet2017_2018'].values\n",
        "# MIData_Scores['percentmet2018_2019'] = MIData2018_2019c['percentmet2018_2019'].values\n",
        "# MIData_Scores['percentmet2020_2021'] = MIData2020_2021c['percentmet2020_2021'].values\n",
        "\n",
        "# # Drop 'schoolyear' column\n",
        "# MIData_Scores=MIData_Scores.drop(['schoolyear'], axis=1)\n",
        "\n",
        "# # MIData_Scores = MIData_Scores[['buildingcode', 'percentmet2015_2016', 'percentmet2016_2017', 'percentmet2017_2018', 'percentmet2018_2019', 'percentmet2020_2021']]\n",
        "# # MIData_Scores = MIData_Scores.T\n",
        "# # MIData_Scores.columns = MIData_Scores.iloc[0]\n",
        "# # MIData_Scores = MIData_Scores.drop(['buildingcode'])\n",
        "# MIData_Scores"
      ],
      "metadata": {
        "id": "73Qs2SYfoDyO"
      },
      "execution_count": null,
      "outputs": []
    },
    {
      "cell_type": "markdown",
      "source": [
        "# All Other Metrics"
      ],
      "metadata": {
        "id": "N-JOyqjQ52cj"
      }
    },
    {
      "cell_type": "code",
      "source": [
        "# Filter dataframe to only include schools in the MIData_Scores dataframe (341 schools)\n",
        "# df1 is the attendance, etc dataframe. df2 is the currated MIData_Scores dataframe\n",
        "\n",
        "def filter_schools(df1, df2):\n",
        "  \n",
        "  # setting the base for the left semi-join in python\n",
        "  semi = df1.merge(df2, on = 'districtcode')\n",
        "  df1['districtcode'].isin(df2['districtcode'])\n",
        "  semi = df1.merge(df2, on = 'districtcode')\n",
        "  \n",
        "  # our left semi join\n",
        "  new_semi=df1[df1['districtcode'].isin(semi['districtcode'])]\n",
        "  return pd.DataFrame(new_semi)"
      ],
      "metadata": {
        "id": "qOmgMwj2eyNa"
      },
      "execution_count": null,
      "outputs": []
    },
    {
      "cell_type": "code",
      "source": [
        "# Import csv files downloaded from State of Michigan website\n",
        "Attendance_2015_2016 = pd.read_csv('/drive/My Drive/SIADS_697_698_Capstone/4_Colabs/2_Michigan_Academic_Data_from_MI_School_Data/1_Raw_Data/2015_2016_Attendance.csv') \n",
        "Attendance_2016_2017 = pd.read_csv('/drive/My Drive/SIADS_697_698_Capstone/4_Colabs/2_Michigan_Academic_Data_from_MI_School_Data/1_Raw_Data/2016_2017_Attendance.csv') \n",
        "Attendance_2017_2018 = pd.read_csv('/drive/My Drive/SIADS_697_698_Capstone/4_Colabs/2_Michigan_Academic_Data_from_MI_School_Data/1_Raw_Data/2017_2018_Attendance.csv') \n",
        "Attendance_2018_2019 = pd.read_csv('/drive/My Drive/SIADS_697_698_Capstone/4_Colabs/2_Michigan_Academic_Data_from_MI_School_Data/1_Raw_Data/2018_2019_Attendance.csv') \n",
        "Attendance_2020_2021 = pd.read_csv('/drive/My Drive/SIADS_697_698_Capstone/4_Colabs/2_Michigan_Academic_Data_from_MI_School_Data/1_Raw_Data/2020_2021_Attendance.csv') \n",
        "\n",
        "Ed_Effective_2015_2016 = pd.read_csv('/drive/My Drive/SIADS_697_698_Capstone/4_Colabs/2_Michigan_Academic_Data_from_MI_School_Data/1_Raw_Data/2015_2016_Educator_Effectiveness.csv') \n",
        "Ed_Effective_2016_2017 = pd.read_csv('/drive/My Drive/SIADS_697_698_Capstone/4_Colabs/2_Michigan_Academic_Data_from_MI_School_Data/1_Raw_Data/2016_2017_Educator_Effectiveness.csv') \n",
        "Ed_Effective_2017_2018 = pd.read_csv('/drive/My Drive/SIADS_697_698_Capstone/4_Colabs/2_Michigan_Academic_Data_from_MI_School_Data/1_Raw_Data/2017_2018_Educator_Effectiveness.csv') \n",
        "Ed_Effective_2018_2019 = pd.read_csv('/drive/My Drive/SIADS_697_698_Capstone/4_Colabs/2_Michigan_Academic_Data_from_MI_School_Data/1_Raw_Data/2018_2019_Educator_Effectiveness.csv') \n",
        "Ed_Effective_2020_2021 = pd.read_csv('/drive/My Drive/SIADS_697_698_Capstone/4_Colabs/2_Michigan_Academic_Data_from_MI_School_Data/1_Raw_Data/2020_2021_Educator_Effectiveness.csv') \n",
        "\n",
        "Finance_2015_2016 = pd.read_csv('/drive/My Drive/SIADS_697_698_Capstone/4_Colabs/2_Michigan_Academic_Data_from_MI_School_Data/1_Raw_Data/2015_2016_Financial_Reports.csv') \n",
        "# Fix Detroit\n",
        "df1 = pd.DataFrame([[np.nan] * len(Finance_2015_2016.columns)], columns=Finance_2015_2016.columns)\n",
        "Finance_2015_2016 = df1.append(Finance_2015_2016, ignore_index=True)\n",
        "Finance_2015_2016.at[0, 'District Code'] = '82015'\n",
        "Finance_2015_2016.at[0, 'District Name'] = 'Detroit Public Schools Community District'\n",
        "\n",
        "Finance_2016_2017 = pd.read_csv('/drive/My Drive/SIADS_697_698_Capstone/4_Colabs/2_Michigan_Academic_Data_from_MI_School_Data/1_Raw_Data/2016_2017_Financial_Reports.csv') \n",
        "Finance_2017_2018 = pd.read_csv('/drive/My Drive/SIADS_697_698_Capstone/4_Colabs/2_Michigan_Academic_Data_from_MI_School_Data/1_Raw_Data/2017_2018_Financial_Reports.csv') \n",
        "Finance_2018_2019 = pd.read_csv('/drive/My Drive/SIADS_697_698_Capstone/4_Colabs/2_Michigan_Academic_Data_from_MI_School_Data/1_Raw_Data/2018_2019_Financial_Reports.csv') \n",
        "Finance_2020_2021 = pd.read_csv('/drive/My Drive/SIADS_697_698_Capstone/4_Colabs/2_Michigan_Academic_Data_from_MI_School_Data/1_Raw_Data/2020_2021_Financial_Reports.csv') \n",
        "\n",
        "Staff_2015_2016 = pd.read_csv('/drive/My Drive/SIADS_697_698_Capstone/4_Colabs/2_Michigan_Academic_Data_from_MI_School_Data/1_Raw_Data/2015_2016_Staffing_Count.csv') \n",
        "Staff_2016_2017 = pd.read_csv('/drive/My Drive/SIADS_697_698_Capstone/4_Colabs/2_Michigan_Academic_Data_from_MI_School_Data/1_Raw_Data/2016_2017_Staffing_Count.csv') \n",
        "Staff_2017_2018 = pd.read_csv('/drive/My Drive/SIADS_697_698_Capstone/4_Colabs/2_Michigan_Academic_Data_from_MI_School_Data/1_Raw_Data/2017_2018_Staffing_Count.csv') \n",
        "Staff_2018_2019 = pd.read_csv('/drive/My Drive/SIADS_697_698_Capstone/4_Colabs/2_Michigan_Academic_Data_from_MI_School_Data/1_Raw_Data/2018_2019_Staffing_Count.csv') \n",
        "Staff_2020_2021 = pd.read_csv('/drive/My Drive/SIADS_697_698_Capstone/4_Colabs/2_Michigan_Academic_Data_from_MI_School_Data/1_Raw_Data/2020_2021_Staffing_Count.csv') \n",
        "\n",
        "Student_2015_2016 = pd.read_csv('/drive/My Drive/SIADS_697_698_Capstone/4_Colabs/2_Michigan_Academic_Data_from_MI_School_Data/1_Raw_Data/2015_2016_Student_Count.csv') \n",
        "Student_2016_2017 = pd.read_csv('/drive/My Drive/SIADS_697_698_Capstone/4_Colabs/2_Michigan_Academic_Data_from_MI_School_Data/1_Raw_Data/2016_2017_Student_Count.csv') \n",
        "Student_2017_2018 = pd.read_csv('/drive/My Drive/SIADS_697_698_Capstone/4_Colabs/2_Michigan_Academic_Data_from_MI_School_Data/1_Raw_Data/2017_2018_Student_Count.csv') \n",
        "Student_2018_2019 = pd.read_csv('/drive/My Drive/SIADS_697_698_Capstone/4_Colabs/2_Michigan_Academic_Data_from_MI_School_Data/1_Raw_Data/2018_2019_Student_Count.csv') \n",
        "Student_2020_2021 = pd.read_csv('/drive/My Drive/SIADS_697_698_Capstone/4_Colabs/2_Michigan_Academic_Data_from_MI_School_Data/1_Raw_Data/2020_2021_Student_Count.csv') "
      ],
      "metadata": {
        "id": "gxPiu3CCKt2C"
      },
      "execution_count": null,
      "outputs": []
    },
    {
      "cell_type": "markdown",
      "source": [
        "# Attendance"
      ],
      "metadata": {
        "id": "99M2sEN0Gjm4"
      }
    },
    {
      "cell_type": "code",
      "source": [
        "def clean_attendance(df, year):\n",
        "  df = df.rename(columns=lambda x: x.strip())\n",
        "  df.columns = df.columns.str.lower()  \n",
        "  df = df.loc[df['buildingname'] == 'All Buildings']\n",
        "  df = df.loc[df['reportcategory'] == 'Grade']\n",
        "  df = df.loc[df['reportsubgroup'] == 'All']\n",
        "  df['schoolyear'] = year\n",
        "  df = df[['districtcode', 'ar_allstudents']] # AR_AllStudents is attendance rate all students\n",
        "  df = df.rename(columns = {'ar_allstudents' : 'attendance'})\n",
        "  df['districtcode'] = df['districtcode'].astype(str)\n",
        "  df = df.sort_values('districtcode')\n",
        "\n",
        "  # df = df.loc[df['districtname'] == 'Forest Hills Public Schools']\n",
        "  # df = df.loc[df['districtcode'] == '82015']\n",
        "  \n",
        "  return df"
      ],
      "metadata": {
        "id": "ALp1Oh5J58ub"
      },
      "execution_count": null,
      "outputs": []
    },
    {
      "cell_type": "code",
      "source": [
        "Attendance_2015_2016c = clean_attendance(Attendance_2015_2016, '2015-2016')\n",
        "Attendance_2016_2017c = clean_attendance(Attendance_2016_2017, '2016-2017')\n",
        "Attendance_2017_2018c = clean_attendance(Attendance_2017_2018, '2017-2018')\n",
        "Attendance_2018_2019c = clean_attendance(Attendance_2018_2019, '2018-2019')\n",
        "Attendance_2020_2021c = clean_attendance(Attendance_2020_2021, '2020-2021')\n",
        "\n",
        "Attendance_2015_2016cc = filter_schools(Attendance_2015_2016c, MIData2020_2021c)\n",
        "Attendance_2016_2017cc = filter_schools(Attendance_2016_2017c, MIData2020_2021c)\n",
        "Attendance_2017_2018cc = filter_schools(Attendance_2017_2018c, MIData2020_2021c)\n",
        "Attendance_2018_2019cc = filter_schools(Attendance_2018_2019c, MIData2020_2021c)\n",
        "Attendance_2020_2021cc = filter_schools(Attendance_2020_2021c, MIData2020_2021c)"
      ],
      "metadata": {
        "id": "laspvOlr581L"
      },
      "execution_count": null,
      "outputs": []
    },
    {
      "cell_type": "markdown",
      "source": [
        "# Student Count"
      ],
      "metadata": {
        "id": "ACdIBwToiPXB"
      }
    },
    {
      "cell_type": "code",
      "source": [
        "    \n",
        "def clean_student(df, year):\n",
        "  df = df.rename(columns=lambda x: x.strip())\n",
        "  df.columns = df.columns.str.lower()  \n",
        "  df = df.loc[df['buildingname'] == 'All Buildings']\n",
        "  # df = df.loc[df['reportcategory'] == 'Grade']\n",
        "  # df = df.loc[df['reportsubgroup'] == 'All']\n",
        "  df['schoolyear'] = year\n",
        "  df = df[['districtcode', 'american_indian_enrollment', 'asian_enrollment',\n",
        "      'english_language_learners_enrollment', 'early_middle_college_enrollment']]\n",
        "\n",
        "  # Replace <=10%, etc. with integers\n",
        "  df.loc[df.english_language_learners_enrollment == '<10', 'english_language_learners_enrollment'] = 5\n",
        "  df['districtcode'] = df['districtcode'].astype('Int64')\n",
        "  df['districtcode'] = df['districtcode'].astype(str)\n",
        "  df = df.sort_values('districtcode')\n",
        "\n",
        "  # df = df.loc[df['districtname'] == 'Forest Hills Public Schools']\n",
        "  return df"
      ],
      "metadata": {
        "id": "qhaM5qGw58-n"
      },
      "execution_count": null,
      "outputs": []
    },
    {
      "cell_type": "code",
      "source": [
        "\n",
        "Student_2015_2016c = clean_student(Student_2015_2016, '2015-2016')\n",
        "Student_2016_2017c = clean_student(Student_2016_2017, '2016-2017')\n",
        "Student_2017_2018c = clean_student(Student_2017_2018, '2017-2018')\n",
        "Student_2018_2019c = clean_student(Student_2018_2019, '2018-2019')\n",
        "Student_2020_2021c = clean_student(Student_2020_2021, '2020-2021')\n",
        "\n",
        "Student_2015_2016cc = filter_schools(Student_2015_2016c, MIData2020_2021c)\n",
        "Student_2016_2017cc = filter_schools(Student_2016_2017c, MIData2020_2021c)\n",
        "Student_2017_2018cc = filter_schools(Student_2017_2018c, MIData2020_2021c)\n",
        "Student_2018_2019cc = filter_schools(Student_2018_2019c, MIData2020_2021c)\n",
        "Student_2020_2021cc = filter_schools(Student_2020_2021c, MIData2020_2021c)"
      ],
      "metadata": {
        "id": "tmIBFfL7iGKs"
      },
      "execution_count": null,
      "outputs": []
    },
    {
      "cell_type": "markdown",
      "source": [
        "# Educator Effectiveness:  Admin Ineffective, Admin Minimally Effective, Teacher Minimally Effective"
      ],
      "metadata": {
        "id": "pDuOhyYF-0Ns"
      }
    },
    {
      "cell_type": "code",
      "source": [
        "    \n",
        "def clean_admin_ineffective(df, year):\n",
        "  df = df.rename(columns=lambda x: x.strip())\n",
        "  df.columns = df.columns.str.lower()  \n",
        "  # df = df.loc[df['buildingname'] == 'All Buildings']\n",
        "  df = df.loc[df['assignment_type'] == 'Administrator']\n",
        "  df = df.loc[df['effectiveness_category'] == 'Ineffective']\n",
        "  df['schoolyear'] = year\n",
        "  df = df.rename(columns={'district code': 'districtcode', 'district name': 'districtname', 'percentage':'admin_ineffective_percentage'})\n",
        "  df = df[['districtcode', 'admin_ineffective_percentage']]\n",
        "  df['districtcode'] = df['districtcode'].astype(str)\n",
        "\n",
        "  # df = df.loc[df['districtname'] == 'Forest Hills Public Schools']\n",
        "  return df"
      ],
      "metadata": {
        "id": "xQpqQmbjiGa9"
      },
      "execution_count": null,
      "outputs": []
    },
    {
      "cell_type": "code",
      "source": [
        "Admin_ineffective_2015_2016c = clean_admin_ineffective(Ed_Effective_2015_2016, '2015-2016')\n",
        "Admin_ineffective_2016_2017c = clean_admin_ineffective(Ed_Effective_2016_2017, '2016-2017')\n",
        "Admin_ineffective_2017_2018c = clean_admin_ineffective(Ed_Effective_2017_2018, '2017-2018')\n",
        "Admin_ineffective_2018_2019c = clean_admin_ineffective(Ed_Effective_2018_2019, '2018-2019')\n",
        "Admin_ineffective_2020_2021c = clean_admin_ineffective(Ed_Effective_2020_2021, '2020-2021')\n",
        "\n",
        "Admin_ineffective_2015_2016cc = filter_schools(Admin_ineffective_2015_2016c, MIData2020_2021c)\n",
        "Admin_ineffective_2016_2017cc = filter_schools(Admin_ineffective_2016_2017c, MIData2020_2021c)\n",
        "Admin_ineffective_2017_2018cc = filter_schools(Admin_ineffective_2017_2018c, MIData2020_2021c)\n",
        "Admin_ineffective_2018_2019cc = filter_schools(Admin_ineffective_2018_2019c, MIData2020_2021c)\n",
        "Admin_ineffective_2020_2021cc = filter_schools(Admin_ineffective_2020_2021c, MIData2020_2021c)"
      ],
      "metadata": {
        "id": "zM70rIokCeT6"
      },
      "execution_count": null,
      "outputs": []
    },
    {
      "cell_type": "code",
      "source": [
        "def clean_admin_min_effective(df, year):\n",
        "  df = df.rename(columns=lambda x: x.strip())\n",
        "  df.columns = df.columns.str.lower()  \n",
        "  df = df.loc[df['assignment_type'] == 'Administrator']\n",
        "  df = df.loc[df['effectiveness_category'] == 'MinimallyEffective']\n",
        "  df['schoolyear'] = year\n",
        "  df = df.rename(columns={'district code': 'districtcode', 'district name': 'districtname', 'percentage':'admin_min_effective_percentage'})\n",
        "  df = df[['districtcode', 'admin_min_effective_percentage']]\n",
        "  df['districtcode'] = df['districtcode'].astype(str)\n",
        "\n",
        "  # df = df.loc[df['districtname'] == 'Forest Hills Public Schools']\n",
        "  return df"
      ],
      "metadata": {
        "id": "PhaxiALqHf5B"
      },
      "execution_count": null,
      "outputs": []
    },
    {
      "cell_type": "code",
      "source": [
        "\n",
        "Admin_min_effective_2015_2016c = clean_admin_min_effective(Ed_Effective_2015_2016, '2015-2016')\n",
        "Admin_min_effective_2016_2017c = clean_admin_min_effective(Ed_Effective_2016_2017, '2016-2017')\n",
        "Admin_min_effective_2017_2018c = clean_admin_min_effective(Ed_Effective_2017_2018, '2017-2018')\n",
        "Admin_min_effective_2018_2019c = clean_admin_min_effective(Ed_Effective_2018_2019, '2018-2019')\n",
        "Admin_min_effective_2020_2021c = clean_admin_min_effective(Ed_Effective_2020_2021, '2020-2021')\n",
        "\n",
        "Admin_min_effective_2015_2016cc = filter_schools(Admin_min_effective_2015_2016c, MIData2020_2021c)\n",
        "Admin_min_effective_2016_2017cc = filter_schools(Admin_min_effective_2016_2017c, MIData2020_2021c)\n",
        "Admin_min_effective_2017_2018cc = filter_schools(Admin_min_effective_2017_2018c, MIData2020_2021c)\n",
        "Admin_min_effective_2018_2019cc = filter_schools(Admin_min_effective_2018_2019c, MIData2020_2021c)\n",
        "Admin_min_effective_2020_2021cc = filter_schools(Admin_min_effective_2020_2021c, MIData2020_2021c)"
      ],
      "metadata": {
        "id": "7G9QEqxoHgIU"
      },
      "execution_count": null,
      "outputs": []
    },
    {
      "cell_type": "code",
      "source": [
        "def clean_teacher_min_effective(df, year):\n",
        "  df = df.rename(columns=lambda x: x.strip())\n",
        "  df.columns = df.columns.str.lower()  \n",
        "  df = df.loc[df['building name'] == 'All Buildings']\n",
        "  df = df.loc[df['assignment_type'] == 'Teacher']\n",
        "  df = df.loc[df['effectiveness_category'] == 'MinimallyEffective']\n",
        "  df['schoolyear'] = year\n",
        "  df = df.rename(columns={'district code': 'districtcode', 'district name': 'districtname', 'percentage':'teacher_min_effective_percentage'})\n",
        "  df = df[['districtcode', 'teacher_min_effective_percentage']]\n",
        "  df['districtcode'] = df['districtcode'].astype(str)\n",
        "\n",
        "  # df = df.loc[df['districtname'] == 'Forest Hills Public Schools']\n",
        "  return df"
      ],
      "metadata": {
        "id": "g8sO2GGRJvB7"
      },
      "execution_count": null,
      "outputs": []
    },
    {
      "cell_type": "code",
      "source": [
        "Teacher_min_effective_2015_2016c = clean_teacher_min_effective(Ed_Effective_2015_2016, '2015-2016')\n",
        "Teacher_min_effective_2016_2017c = clean_teacher_min_effective(Ed_Effective_2016_2017, '2016-2017')\n",
        "Teacher_min_effective_2017_2018c = clean_teacher_min_effective(Ed_Effective_2017_2018, '2017-2018')\n",
        "Teacher_min_effective_2018_2019c = clean_teacher_min_effective(Ed_Effective_2018_2019, '2018-2019')\n",
        "Teacher_min_effective_2020_2021c = clean_teacher_min_effective(Ed_Effective_2020_2021, '2020-2021')\n",
        "\n",
        "Teacher_min_effective_2015_2016cc = filter_schools(Teacher_min_effective_2015_2016c, MIData2020_2021c)\n",
        "Teacher_min_effective_2016_2017cc = filter_schools(Teacher_min_effective_2016_2017c, MIData2020_2021c)\n",
        "Teacher_min_effective_2017_2018cc = filter_schools(Teacher_min_effective_2017_2018c, MIData2020_2021c)\n",
        "Teacher_min_effective_2018_2019cc = filter_schools(Teacher_min_effective_2018_2019c, MIData2020_2021c)\n",
        "Teacher_min_effective_2020_2021cc = filter_schools(Teacher_min_effective_2020_2021c, MIData2020_2021c)"
      ],
      "metadata": {
        "id": "sgwjii1HJvSv"
      },
      "execution_count": null,
      "outputs": []
    },
    {
      "cell_type": "markdown",
      "source": [
        "# Finance\n",
        "\n"
      ],
      "metadata": {
        "id": "ZEExAi2Kq66Z"
      }
    },
    {
      "cell_type": "code",
      "source": [
        "def clean_finance(df, year):\n",
        "  df = df.rename(columns=lambda x: x.strip())\n",
        "  df.columns = df.columns.str.lower()  \n",
        "\n",
        "  df = df.rename(columns={'district code': 'districtcode', 'district name': 'districtname', 'fiscal year':'fiscalyear', 'fund balance as % of expenditure':'fundbalanceas%ofexpenditure'})\n",
        "  df['fiscalyear'] = year\n",
        "  df = df[['districtcode', 'fundbalanceas%ofexpenditure']]\n",
        "  df['districtcode'] = df['districtcode'].astype('Int64')\n",
        "  df['districtcode'] = df['districtcode'].astype(str)\n",
        "  \n",
        "  # df = df.loc[df['districtname'] == 'Forest Hills Public Schools']\n",
        "  return df"
      ],
      "metadata": {
        "id": "Sg2rwOqCq6sR"
      },
      "execution_count": null,
      "outputs": []
    },
    {
      "cell_type": "code",
      "source": [
        "Finance_2015_2016c = clean_finance(Finance_2015_2016, '2015-2016')\n",
        "Finance_2016_2017c = clean_finance(Finance_2016_2017, '2016-2017')\n",
        "Finance_2017_2018c = clean_finance(Finance_2017_2018, '2017-2018')\n",
        "Finance_2018_2019c = clean_finance(Finance_2018_2019, '2018-2019')\n",
        "Finance_2020_2021c = clean_finance(Finance_2020_2021, '2020-2021')\n",
        "\n",
        "Finance_2015_2016cc = filter_schools(Finance_2015_2016c, MIData2020_2021c)\n",
        "Finance_2016_2017cc = filter_schools(Finance_2016_2017c, MIData2020_2021c)\n",
        "Finance_2017_2018cc = filter_schools(Finance_2017_2018c, MIData2020_2021c)\n",
        "Finance_2018_2019cc = filter_schools(Finance_2018_2019c, MIData2020_2021c)\n",
        "Finance_2020_2021cc = filter_schools(Finance_2020_2021c, MIData2020_2021c)"
      ],
      "metadata": {
        "id": "Q4k2_HZ7rDur",
        "colab": {
          "base_uri": "https://localhost:8080/"
        },
        "outputId": "1e548e0d-3ba5-4ada-9598-a235b590fa27"
      },
      "execution_count": null,
      "outputs": [
        {
          "output_type": "stream",
          "name": "stderr",
          "text": [
            "/usr/local/lib/python3.7/dist-packages/ipykernel_launcher.py:8: SettingWithCopyWarning: \n",
            "A value is trying to be set on a copy of a slice from a DataFrame.\n",
            "Try using .loc[row_indexer,col_indexer] = value instead\n",
            "\n",
            "See the caveats in the documentation: https://pandas.pydata.org/pandas-docs/stable/user_guide/indexing.html#returning-a-view-versus-a-copy\n",
            "  \n"
          ]
        }
      ]
    },
    {
      "cell_type": "markdown",
      "source": [
        "# Demographic data from American Community Survey"
      ],
      "metadata": {
        "id": "hk7u7Hqhmfe5"
      }
    },
    {
      "cell_type": "code",
      "source": [
        "Demographic_Data = pd.read_csv('/drive/My Drive/SIADS_697_698_Capstone/4_Colabs/3_Data_Final/Demographic_Data_Original.csv') \n",
        "Demographic_Data = Demographic_Data.rename(columns={'SchoolDistrict': 'districtname'})"
      ],
      "metadata": {
        "id": "N2K1Gl3UmfPT"
      },
      "execution_count": null,
      "outputs": []
    },
    {
      "cell_type": "markdown",
      "source": [
        "# Merge"
      ],
      "metadata": {
        "id": "34bH5ff6vGwm"
      }
    },
    {
      "cell_type": "code",
      "source": [
        "# Combine all dataframes\n",
        "df2015_2016 = pd.merge(MIData2015_2016c,Attendance_2015_2016cc,on='districtcode')\n",
        "df2015_2016 = pd.merge(df2015_2016,Student_2015_2016cc,on='districtcode')\n",
        "df2015_2016 = pd.merge(df2015_2016,Admin_ineffective_2015_2016cc,on='districtcode')\n",
        "df2015_2016 = pd.merge(df2015_2016,Admin_min_effective_2015_2016cc,on='districtcode')\n",
        "df2015_2016 = pd.merge(df2015_2016,Teacher_min_effective_2015_2016cc,on='districtcode')\n",
        "df2015_2016 = pd.merge(df2015_2016,Finance_2015_2016cc,on='districtcode')\n",
        "\n",
        "df2016_2017 = pd.merge(MIData2016_2017c,Attendance_2016_2017cc,on='districtcode')\n",
        "df2016_2017 = pd.merge(df2016_2017,Student_2016_2017cc,on='districtcode')\n",
        "df2016_2017 = pd.merge(df2016_2017,Admin_ineffective_2016_2017cc,on='districtcode')\n",
        "df2016_2017 = pd.merge(df2016_2017,Admin_min_effective_2016_2017cc,on='districtcode')\n",
        "df2016_2017 = pd.merge(df2016_2017,Teacher_min_effective_2016_2017cc,on='districtcode')\n",
        "df2016_2017 = pd.merge(df2016_2017,Finance_2016_2017cc,on='districtcode')\n",
        "\n",
        "df2017_2018 = pd.merge(MIData2017_2018c,Attendance_2017_2018cc,on='districtcode')\n",
        "df2017_2018 = pd.merge(df2017_2018,Student_2017_2018cc,on='districtcode')\n",
        "df2017_2018 = pd.merge(df2017_2018,Admin_ineffective_2017_2018cc,on='districtcode')\n",
        "df2017_2018 = pd.merge(df2017_2018,Admin_min_effective_2017_2018cc,on='districtcode')\n",
        "df2017_2018 = pd.merge(df2017_2018,Teacher_min_effective_2017_2018cc,on='districtcode')\n",
        "df2017_2018 = pd.merge(df2017_2018,Finance_2017_2018cc,on='districtcode')\n",
        "\n",
        "df2018_2019 = pd.merge(MIData2018_2019c,Attendance_2018_2019cc,on='districtcode')\n",
        "df2018_2019 = pd.merge(df2018_2019,Student_2018_2019cc,on='districtcode')\n",
        "df2018_2019 = pd.merge(df2018_2019,Admin_ineffective_2018_2019cc,on='districtcode')\n",
        "df2018_2019 = pd.merge(df2018_2019,Admin_min_effective_2018_2019cc,on='districtcode')\n",
        "df2018_2019 = pd.merge(df2018_2019,Teacher_min_effective_2018_2019cc,on='districtcode')\n",
        "df2018_2019 = pd.merge(df2018_2019,Finance_2018_2019cc,on='districtcode')\n",
        "\n",
        "df2020_2021 = pd.merge(MIData2020_2021c,Attendance_2020_2021cc,on='districtcode')\n",
        "df2020_2021 = pd.merge(df2020_2021,Student_2020_2021cc,on='districtcode')\n",
        "df2020_2021 = pd.merge(df2020_2021,Admin_ineffective_2020_2021cc,on='districtcode')\n",
        "df2020_2021 = pd.merge(df2020_2021,Admin_min_effective_2020_2021cc,on='districtcode')\n",
        "df2020_2021 = pd.merge(df2020_2021,Teacher_min_effective_2020_2021cc,on='districtcode')\n",
        "df2020_2021 = pd.merge(df2020_2021,Finance_2020_2021cc,on='districtcode')\n",
        "\n",
        "Cell_Phone_DF = pd.concat([df2015_2016, df2016_2017], axis=0)\n",
        "Cell_Phone_DF = pd.concat([Cell_Phone_DF, df2017_2018], axis=0)\n",
        "Cell_Phone_DF = pd.concat([Cell_Phone_DF, df2018_2019], axis=0)\n",
        "Cell_Phone_DF = pd.concat([Cell_Phone_DF, df2020_2021], axis=0)\n",
        "\n",
        "# Merge academic data and demographic data\n",
        "Cell_Phone_DF = pd.merge(Cell_Phone_DF ,Demographic_Data , on = 'districtname')\n",
        "\n",
        "# Drop districts with cell phone bans besides Forest Hills Public Schools, and schools who might have a cell phone ban\n",
        "Cell_Phone_DF = Cell_Phone_DF.drop(Cell_Phone_DF[Cell_Phone_DF.districtname == 'Grosse Pointe Public Schools'].index) \n",
        "Cell_Phone_DF = Cell_Phone_DF.drop(Cell_Phone_DF[Cell_Phone_DF.districtname == 'Ionia Public Schools'].index) \n",
        "Cell_Phone_DF = Cell_Phone_DF.drop(Cell_Phone_DF[Cell_Phone_DF.districtname == 'Plymouth-Canton Community Schools'].index) \n",
        "Cell_Phone_DF = Cell_Phone_DF.drop(Cell_Phone_DF[Cell_Phone_DF.districtname == 'Hopkins Public Schools'].index) \n",
        "Cell_Phone_DF = Cell_Phone_DF.drop(Cell_Phone_DF[Cell_Phone_DF.districtname == 'St. Charles Community Schools'].index) \n",
        "Cell_Phone_DF = Cell_Phone_DF.drop(Cell_Phone_DF[Cell_Phone_DF.districtname == 'Swan Valley School District'].index)\n",
        "Cell_Phone_DF = Cell_Phone_DF.drop(Cell_Phone_DF[Cell_Phone_DF.districtname == 'Croswell-Lexington Community Schools'].index) \n",
        "Cell_Phone_DF = Cell_Phone_DF.drop(Cell_Phone_DF[Cell_Phone_DF.districtname == 'Capac Community Schools'].index) \n",
        "Cell_Phone_DF = Cell_Phone_DF.drop(Cell_Phone_DF[Cell_Phone_DF.districtname == 'Colon Community Schools'].index) \n",
        "Cell_Phone_DF = Cell_Phone_DF.drop(Cell_Phone_DF[Cell_Phone_DF.districtname == 'Cass City Public Schools'].index) \n",
        "Cell_Phone_DF = Cell_Phone_DF.drop(Cell_Phone_DF[Cell_Phone_DF.districtname == 'Crestwood School District'].index) \n",
        "Cell_Phone_DF = Cell_Phone_DF.drop(Cell_Phone_DF[Cell_Phone_DF.districtname == 'The School District of the City of Harper Woods'].index) \n",
        "Cell_Phone_DF = Cell_Phone_DF.drop(Cell_Phone_DF[Cell_Phone_DF.districtname == 'Onaway Area Community School District'].index) \n",
        "Cell_Phone_DF = Cell_Phone_DF.drop(Cell_Phone_DF[Cell_Phone_DF.districtname == 'Lakeview School District'].index) \n",
        "\n",
        "Cell_Phone_DF = Cell_Phone_DF.sort_values(by = ['districtcode', 'schoolyear'])\n",
        "\n",
        "# Three columns have nan that should be 0: ['admin_ineffective_percentage', 'admin_min_effective_percentage', 'teacher_min_effective_percentage']\n",
        "Cell_Phone_DF = Cell_Phone_DF.fillna(0)"
      ],
      "metadata": {
        "id": "BgiQsr6YvGe9"
      },
      "execution_count": null,
      "outputs": []
    },
    {
      "cell_type": "code",
      "source": [
        "# Reduce the number of covariates\n",
        "Cell_Phone_DF10 = Cell_Phone_DF[['districtcode', 'schoolyear', 'districtname', '8th_math_percentmet', 'english_language_learners_enrollment',\n",
        "       'attendance', 'english_language_learners_enrollment', 'admin_min_effective_percentage', 'teacher_min_effective_percentage',\n",
        "         'Estimate Median household income in the past 12 months (in 2018 inflation-adjusted dollars)', \"Estimate Total Bachelor's degree\", \"Estimate Total Master's degree\",\n",
        "         'fundbalanceas%ofexpenditure', 'Estimate Total Living in household with Supplemental Security Income (SSI), cash public assistance income, or Food Stamps/SNAP in the past 12 months']]\n",
        "\n",
        "Cell_Phone_DF5 = Cell_Phone_DF[['districtcode', 'schoolyear', 'districtname', '8th_math_percentmet',\n",
        "       'attendance', 'teacher_min_effective_percentage',\n",
        "         'Estimate Median household income in the past 12 months (in 2018 inflation-adjusted dollars)',\n",
        "         'fundbalanceas%ofexpenditure', 'Estimate Total Living in household with Supplemental Security Income (SSI), cash public assistance income, or Food Stamps/SNAP in the past 12 months']]"
      ],
      "metadata": {
        "id": "pzECR027SYzv"
      },
      "execution_count": null,
      "outputs": []
    },
    {
      "cell_type": "code",
      "source": [
        "# Cell_Phone_DF.loc[Cell_Phone_DF['districtname'] == 'Swan Valley School District'] \n",
        "# St. Charles Community Schools.    Swan Valley School District"
      ],
      "metadata": {
        "id": "-oB2_aCIRyVg"
      },
      "execution_count": null,
      "outputs": []
    },
    {
      "cell_type": "markdown",
      "source": [
        "# Save to file"
      ],
      "metadata": {
        "id": "SjopAOVYo6wY"
      }
    },
    {
      "cell_type": "code",
      "source": [
        "Cell_Phone_DF.to_csv('/drive/My Drive/SIADS_697_698_Capstone/4_Colabs/3_Data_Final/Cell_Phone_DF.csv')\n",
        "Cell_Phone_DF5.to_csv('/drive/My Drive/SIADS_697_698_Capstone/4_Colabs/3_Data_Final/Cell_Phone_DF5.csv')\n",
        "Cell_Phone_DF10.to_csv('/drive/My Drive/SIADS_697_698_Capstone/4_Colabs/3_Data_Final/Cell_Phone_DF10.csv')"
      ],
      "metadata": {
        "id": "wWyM3cHco7Bk"
      },
      "execution_count": null,
      "outputs": []
    },
    {
      "cell_type": "markdown",
      "source": [
        "# Staffing Count: Teacher Specialist Degree, Teacher >= 70, Teacher Doctoral Degree"
      ],
      "metadata": {
        "id": "DjMJSYGDMCH5"
      }
    },
    {
      "cell_type": "code",
      "source": [
        "def clean_techer_specialist(df, year):\n",
        "  df = df.rename(columns=lambda x: x.strip())\n",
        "  df.columns = df.columns.str.lower()  \n",
        "  # df = df.loc[df['building name'] == 'All Buildings']\n",
        "  # df = df.loc[df['assignment_type'] == 'Teacher']\n",
        "  # df = df.loc[df['effectiveness_category'] == 'MinimallyEffective']\n",
        "  # df['schoolyear'] = year\n",
        "  # df = df.rename(columns={'percentage':'teacher_min_effective_percentage'})\n",
        "  # df = df[['schoolyear', 'districtcode', 'districtname', 'teacher_min_effective_percentage']]\n",
        "\n",
        "  df = df.loc[df['districtname'] == 'Forest Hills Public Schools']\n",
        "  return df"
      ],
      "metadata": {
        "id": "sJWgkmytMecI"
      },
      "execution_count": null,
      "outputs": []
    },
    {
      "cell_type": "code",
      "source": [
        "teacher_specialist_2015_2016c = clean_techer_specialist(Staff_2015_2016, '2015-2016')\n",
        "teacher_specialist_2015_2016c\n"
      ],
      "metadata": {
        "colab": {
          "base_uri": "https://localhost:8080/",
          "height": 738
        },
        "id": "vagKraiVMer-",
        "outputId": "06cace05-0171-4ba2-e596-a41409ca5714"
      },
      "execution_count": null,
      "outputs": [
        {
          "output_type": "execute_result",
          "data": {
            "text/plain": [
              "                schoolyear  isdcode   isdname  districtcode  \\\n",
              "41904  15 - 16 School Year       41  Kent ISD         41110   \n",
              "41905  15 - 16 School Year       41  Kent ISD         41110   \n",
              "41906  15 - 16 School Year       41  Kent ISD         41110   \n",
              "41907  15 - 16 School Year       41  Kent ISD         41110   \n",
              "41908  15 - 16 School Year       41  Kent ISD         41110   \n",
              "...                    ...      ...       ...           ...   \n",
              "42411  15 - 16 School Year       41  Kent ISD         41110   \n",
              "42412  15 - 16 School Year       41  Kent ISD         41110   \n",
              "42413  15 - 16 School Year       41  Kent ISD         41110   \n",
              "42414  15 - 16 School Year       41  Kent ISD         41110   \n",
              "42415  15 - 16 School Year       41  Kent ISD         41110   \n",
              "\n",
              "                      districtname  buildingcode  \\\n",
              "41904  Forest Hills Public Schools             0   \n",
              "41905  Forest Hills Public Schools             0   \n",
              "41906  Forest Hills Public Schools             0   \n",
              "41907  Forest Hills Public Schools             0   \n",
              "41908  Forest Hills Public Schools             0   \n",
              "...                            ...           ...   \n",
              "42411  Forest Hills Public Schools          9712   \n",
              "42412  Forest Hills Public Schools          9712   \n",
              "42413  Forest Hills Public Schools          9712   \n",
              "42414  Forest Hills Public Schools          9712   \n",
              "42415  Forest Hills Public Schools          9712   \n",
              "\n",
              "                         buildingname  countycode countyname  \\\n",
              "41904       All Buildings in District        41.0       Kent   \n",
              "41905       All Buildings in District        41.0       Kent   \n",
              "41906       All Buildings in District        41.0       Kent   \n",
              "41907       All Buildings in District        41.0       Kent   \n",
              "41908       All Buildings in District        41.0       Kent   \n",
              "...                               ...         ...        ...   \n",
              "42411  Forest Hills Transition Center        41.0       Kent   \n",
              "42412  Forest Hills Transition Center        41.0       Kent   \n",
              "42413  Forest Hills Transition Center        41.0       Kent   \n",
              "42414  Forest Hills Transition Center        41.0       Kent   \n",
              "42415  Forest Hills Transition Center        41.0       Kent   \n",
              "\n",
              "                          entitytype            schoollevel         locale  \\\n",
              "41904                   LEA District  Elem thru High School  Suburb: Large   \n",
              "41905                   LEA District  Elem thru High School  Suburb: Large   \n",
              "41906                   LEA District  Elem thru High School  Suburb: Large   \n",
              "41907                   LEA District  Elem thru High School  Suburb: Large   \n",
              "41908                   LEA District  Elem thru High School  Suburb: Large   \n",
              "...                              ...                    ...            ...   \n",
              "42411  LEA Unique Education Provider                  Other  Suburb: Large   \n",
              "42412  LEA Unique Education Provider                  Other  Suburb: Large   \n",
              "42413  LEA Unique Education Provider                  Other  Suburb: Large   \n",
              "42414  LEA Unique Education Provider                  Other  Suburb: Large   \n",
              "42415  LEA Unique Education Provider                  Other  Suburb: Large   \n",
              "\n",
              "                                      staffgroup reportcategoryoverall  \\\n",
              "41904                                   Teachers                Gender   \n",
              "41905  Non-Instructional Paraprofessionals/Aides        Race/Ethnicity   \n",
              "41906                                   Teachers        Race/Ethnicity   \n",
              "41907         Day-to-Day Paraprofessionals/Aides        Race/Ethnicity   \n",
              "41908                    Paraprofessionals/Aides        Race/Ethnicity   \n",
              "...                                          ...                   ...   \n",
              "42411                                   Teachers                Gender   \n",
              "42412                    Paraprofessionals/Aides        Race/Ethnicity   \n",
              "42413                    Paraprofessionals/Aides             All Staff   \n",
              "42414                                        All             All Staff   \n",
              "42415                    Paraprofessionals/Aides                Gender   \n",
              "\n",
              "                         reportcategory  headcount  headcountpercent     fte  \\\n",
              "41904                              Male      154.0              24.9  152.61   \n",
              "41905                 Two or More Races       10.0               1.1    7.87   \n",
              "41906  American Indian or Alaska Native        2.0               0.3    1.16   \n",
              "41907                             Asian        2.0               3.6     NaN   \n",
              "41908     Black, not of Hispanic origin        4.0               2.0    3.24   \n",
              "...                                 ...        ...               ...     ...   \n",
              "42411                              Male        1.0              16.7    0.05   \n",
              "42412     White, not of Hispanic origin        2.0             100.0    2.00   \n",
              "42413                         All Staff        2.0              25.0    2.00   \n",
              "42414                         All Staff        8.0             100.0    5.00   \n",
              "42415                            Female        2.0             100.0    2.00   \n",
              "\n",
              "       ftepercent  \n",
              "41904        25.8  \n",
              "41905         2.2  \n",
              "41906         0.2  \n",
              "41907         NaN  \n",
              "41908         2.3  \n",
              "...           ...  \n",
              "42411         1.7  \n",
              "42412       100.0  \n",
              "42413        40.0  \n",
              "42414       100.0  \n",
              "42415       100.0  \n",
              "\n",
              "[512 rows x 19 columns]"
            ],
            "text/html": [
              "\n",
              "  <div id=\"df-7b5b00d0-8cd6-474d-a6cf-ee412e689e55\">\n",
              "    <div class=\"colab-df-container\">\n",
              "      <div>\n",
              "<style scoped>\n",
              "    .dataframe tbody tr th:only-of-type {\n",
              "        vertical-align: middle;\n",
              "    }\n",
              "\n",
              "    .dataframe tbody tr th {\n",
              "        vertical-align: top;\n",
              "    }\n",
              "\n",
              "    .dataframe thead th {\n",
              "        text-align: right;\n",
              "    }\n",
              "</style>\n",
              "<table border=\"1\" class=\"dataframe\">\n",
              "  <thead>\n",
              "    <tr style=\"text-align: right;\">\n",
              "      <th></th>\n",
              "      <th>schoolyear</th>\n",
              "      <th>isdcode</th>\n",
              "      <th>isdname</th>\n",
              "      <th>districtcode</th>\n",
              "      <th>districtname</th>\n",
              "      <th>buildingcode</th>\n",
              "      <th>buildingname</th>\n",
              "      <th>countycode</th>\n",
              "      <th>countyname</th>\n",
              "      <th>entitytype</th>\n",
              "      <th>schoollevel</th>\n",
              "      <th>locale</th>\n",
              "      <th>staffgroup</th>\n",
              "      <th>reportcategoryoverall</th>\n",
              "      <th>reportcategory</th>\n",
              "      <th>headcount</th>\n",
              "      <th>headcountpercent</th>\n",
              "      <th>fte</th>\n",
              "      <th>ftepercent</th>\n",
              "    </tr>\n",
              "  </thead>\n",
              "  <tbody>\n",
              "    <tr>\n",
              "      <th>41904</th>\n",
              "      <td>15 - 16 School Year</td>\n",
              "      <td>41</td>\n",
              "      <td>Kent ISD</td>\n",
              "      <td>41110</td>\n",
              "      <td>Forest Hills Public Schools</td>\n",
              "      <td>0</td>\n",
              "      <td>All Buildings in District</td>\n",
              "      <td>41.0</td>\n",
              "      <td>Kent</td>\n",
              "      <td>LEA District</td>\n",
              "      <td>Elem thru High School</td>\n",
              "      <td>Suburb: Large</td>\n",
              "      <td>Teachers</td>\n",
              "      <td>Gender</td>\n",
              "      <td>Male</td>\n",
              "      <td>154.0</td>\n",
              "      <td>24.9</td>\n",
              "      <td>152.61</td>\n",
              "      <td>25.8</td>\n",
              "    </tr>\n",
              "    <tr>\n",
              "      <th>41905</th>\n",
              "      <td>15 - 16 School Year</td>\n",
              "      <td>41</td>\n",
              "      <td>Kent ISD</td>\n",
              "      <td>41110</td>\n",
              "      <td>Forest Hills Public Schools</td>\n",
              "      <td>0</td>\n",
              "      <td>All Buildings in District</td>\n",
              "      <td>41.0</td>\n",
              "      <td>Kent</td>\n",
              "      <td>LEA District</td>\n",
              "      <td>Elem thru High School</td>\n",
              "      <td>Suburb: Large</td>\n",
              "      <td>Non-Instructional Paraprofessionals/Aides</td>\n",
              "      <td>Race/Ethnicity</td>\n",
              "      <td>Two or More Races</td>\n",
              "      <td>10.0</td>\n",
              "      <td>1.1</td>\n",
              "      <td>7.87</td>\n",
              "      <td>2.2</td>\n",
              "    </tr>\n",
              "    <tr>\n",
              "      <th>41906</th>\n",
              "      <td>15 - 16 School Year</td>\n",
              "      <td>41</td>\n",
              "      <td>Kent ISD</td>\n",
              "      <td>41110</td>\n",
              "      <td>Forest Hills Public Schools</td>\n",
              "      <td>0</td>\n",
              "      <td>All Buildings in District</td>\n",
              "      <td>41.0</td>\n",
              "      <td>Kent</td>\n",
              "      <td>LEA District</td>\n",
              "      <td>Elem thru High School</td>\n",
              "      <td>Suburb: Large</td>\n",
              "      <td>Teachers</td>\n",
              "      <td>Race/Ethnicity</td>\n",
              "      <td>American Indian or Alaska Native</td>\n",
              "      <td>2.0</td>\n",
              "      <td>0.3</td>\n",
              "      <td>1.16</td>\n",
              "      <td>0.2</td>\n",
              "    </tr>\n",
              "    <tr>\n",
              "      <th>41907</th>\n",
              "      <td>15 - 16 School Year</td>\n",
              "      <td>41</td>\n",
              "      <td>Kent ISD</td>\n",
              "      <td>41110</td>\n",
              "      <td>Forest Hills Public Schools</td>\n",
              "      <td>0</td>\n",
              "      <td>All Buildings in District</td>\n",
              "      <td>41.0</td>\n",
              "      <td>Kent</td>\n",
              "      <td>LEA District</td>\n",
              "      <td>Elem thru High School</td>\n",
              "      <td>Suburb: Large</td>\n",
              "      <td>Day-to-Day Paraprofessionals/Aides</td>\n",
              "      <td>Race/Ethnicity</td>\n",
              "      <td>Asian</td>\n",
              "      <td>2.0</td>\n",
              "      <td>3.6</td>\n",
              "      <td>NaN</td>\n",
              "      <td>NaN</td>\n",
              "    </tr>\n",
              "    <tr>\n",
              "      <th>41908</th>\n",
              "      <td>15 - 16 School Year</td>\n",
              "      <td>41</td>\n",
              "      <td>Kent ISD</td>\n",
              "      <td>41110</td>\n",
              "      <td>Forest Hills Public Schools</td>\n",
              "      <td>0</td>\n",
              "      <td>All Buildings in District</td>\n",
              "      <td>41.0</td>\n",
              "      <td>Kent</td>\n",
              "      <td>LEA District</td>\n",
              "      <td>Elem thru High School</td>\n",
              "      <td>Suburb: Large</td>\n",
              "      <td>Paraprofessionals/Aides</td>\n",
              "      <td>Race/Ethnicity</td>\n",
              "      <td>Black, not of Hispanic origin</td>\n",
              "      <td>4.0</td>\n",
              "      <td>2.0</td>\n",
              "      <td>3.24</td>\n",
              "      <td>2.3</td>\n",
              "    </tr>\n",
              "    <tr>\n",
              "      <th>...</th>\n",
              "      <td>...</td>\n",
              "      <td>...</td>\n",
              "      <td>...</td>\n",
              "      <td>...</td>\n",
              "      <td>...</td>\n",
              "      <td>...</td>\n",
              "      <td>...</td>\n",
              "      <td>...</td>\n",
              "      <td>...</td>\n",
              "      <td>...</td>\n",
              "      <td>...</td>\n",
              "      <td>...</td>\n",
              "      <td>...</td>\n",
              "      <td>...</td>\n",
              "      <td>...</td>\n",
              "      <td>...</td>\n",
              "      <td>...</td>\n",
              "      <td>...</td>\n",
              "      <td>...</td>\n",
              "    </tr>\n",
              "    <tr>\n",
              "      <th>42411</th>\n",
              "      <td>15 - 16 School Year</td>\n",
              "      <td>41</td>\n",
              "      <td>Kent ISD</td>\n",
              "      <td>41110</td>\n",
              "      <td>Forest Hills Public Schools</td>\n",
              "      <td>9712</td>\n",
              "      <td>Forest Hills Transition Center</td>\n",
              "      <td>41.0</td>\n",
              "      <td>Kent</td>\n",
              "      <td>LEA Unique Education Provider</td>\n",
              "      <td>Other</td>\n",
              "      <td>Suburb: Large</td>\n",
              "      <td>Teachers</td>\n",
              "      <td>Gender</td>\n",
              "      <td>Male</td>\n",
              "      <td>1.0</td>\n",
              "      <td>16.7</td>\n",
              "      <td>0.05</td>\n",
              "      <td>1.7</td>\n",
              "    </tr>\n",
              "    <tr>\n",
              "      <th>42412</th>\n",
              "      <td>15 - 16 School Year</td>\n",
              "      <td>41</td>\n",
              "      <td>Kent ISD</td>\n",
              "      <td>41110</td>\n",
              "      <td>Forest Hills Public Schools</td>\n",
              "      <td>9712</td>\n",
              "      <td>Forest Hills Transition Center</td>\n",
              "      <td>41.0</td>\n",
              "      <td>Kent</td>\n",
              "      <td>LEA Unique Education Provider</td>\n",
              "      <td>Other</td>\n",
              "      <td>Suburb: Large</td>\n",
              "      <td>Paraprofessionals/Aides</td>\n",
              "      <td>Race/Ethnicity</td>\n",
              "      <td>White, not of Hispanic origin</td>\n",
              "      <td>2.0</td>\n",
              "      <td>100.0</td>\n",
              "      <td>2.00</td>\n",
              "      <td>100.0</td>\n",
              "    </tr>\n",
              "    <tr>\n",
              "      <th>42413</th>\n",
              "      <td>15 - 16 School Year</td>\n",
              "      <td>41</td>\n",
              "      <td>Kent ISD</td>\n",
              "      <td>41110</td>\n",
              "      <td>Forest Hills Public Schools</td>\n",
              "      <td>9712</td>\n",
              "      <td>Forest Hills Transition Center</td>\n",
              "      <td>41.0</td>\n",
              "      <td>Kent</td>\n",
              "      <td>LEA Unique Education Provider</td>\n",
              "      <td>Other</td>\n",
              "      <td>Suburb: Large</td>\n",
              "      <td>Paraprofessionals/Aides</td>\n",
              "      <td>All Staff</td>\n",
              "      <td>All Staff</td>\n",
              "      <td>2.0</td>\n",
              "      <td>25.0</td>\n",
              "      <td>2.00</td>\n",
              "      <td>40.0</td>\n",
              "    </tr>\n",
              "    <tr>\n",
              "      <th>42414</th>\n",
              "      <td>15 - 16 School Year</td>\n",
              "      <td>41</td>\n",
              "      <td>Kent ISD</td>\n",
              "      <td>41110</td>\n",
              "      <td>Forest Hills Public Schools</td>\n",
              "      <td>9712</td>\n",
              "      <td>Forest Hills Transition Center</td>\n",
              "      <td>41.0</td>\n",
              "      <td>Kent</td>\n",
              "      <td>LEA Unique Education Provider</td>\n",
              "      <td>Other</td>\n",
              "      <td>Suburb: Large</td>\n",
              "      <td>All</td>\n",
              "      <td>All Staff</td>\n",
              "      <td>All Staff</td>\n",
              "      <td>8.0</td>\n",
              "      <td>100.0</td>\n",
              "      <td>5.00</td>\n",
              "      <td>100.0</td>\n",
              "    </tr>\n",
              "    <tr>\n",
              "      <th>42415</th>\n",
              "      <td>15 - 16 School Year</td>\n",
              "      <td>41</td>\n",
              "      <td>Kent ISD</td>\n",
              "      <td>41110</td>\n",
              "      <td>Forest Hills Public Schools</td>\n",
              "      <td>9712</td>\n",
              "      <td>Forest Hills Transition Center</td>\n",
              "      <td>41.0</td>\n",
              "      <td>Kent</td>\n",
              "      <td>LEA Unique Education Provider</td>\n",
              "      <td>Other</td>\n",
              "      <td>Suburb: Large</td>\n",
              "      <td>Paraprofessionals/Aides</td>\n",
              "      <td>Gender</td>\n",
              "      <td>Female</td>\n",
              "      <td>2.0</td>\n",
              "      <td>100.0</td>\n",
              "      <td>2.00</td>\n",
              "      <td>100.0</td>\n",
              "    </tr>\n",
              "  </tbody>\n",
              "</table>\n",
              "<p>512 rows × 19 columns</p>\n",
              "</div>\n",
              "      <button class=\"colab-df-convert\" onclick=\"convertToInteractive('df-7b5b00d0-8cd6-474d-a6cf-ee412e689e55')\"\n",
              "              title=\"Convert this dataframe to an interactive table.\"\n",
              "              style=\"display:none;\">\n",
              "        \n",
              "  <svg xmlns=\"http://www.w3.org/2000/svg\" height=\"24px\"viewBox=\"0 0 24 24\"\n",
              "       width=\"24px\">\n",
              "    <path d=\"M0 0h24v24H0V0z\" fill=\"none\"/>\n",
              "    <path d=\"M18.56 5.44l.94 2.06.94-2.06 2.06-.94-2.06-.94-.94-2.06-.94 2.06-2.06.94zm-11 1L8.5 8.5l.94-2.06 2.06-.94-2.06-.94L8.5 2.5l-.94 2.06-2.06.94zm10 10l.94 2.06.94-2.06 2.06-.94-2.06-.94-.94-2.06-.94 2.06-2.06.94z\"/><path d=\"M17.41 7.96l-1.37-1.37c-.4-.4-.92-.59-1.43-.59-.52 0-1.04.2-1.43.59L10.3 9.45l-7.72 7.72c-.78.78-.78 2.05 0 2.83L4 21.41c.39.39.9.59 1.41.59.51 0 1.02-.2 1.41-.59l7.78-7.78 2.81-2.81c.8-.78.8-2.07 0-2.86zM5.41 20L4 18.59l7.72-7.72 1.47 1.35L5.41 20z\"/>\n",
              "  </svg>\n",
              "      </button>\n",
              "      \n",
              "  <style>\n",
              "    .colab-df-container {\n",
              "      display:flex;\n",
              "      flex-wrap:wrap;\n",
              "      gap: 12px;\n",
              "    }\n",
              "\n",
              "    .colab-df-convert {\n",
              "      background-color: #E8F0FE;\n",
              "      border: none;\n",
              "      border-radius: 50%;\n",
              "      cursor: pointer;\n",
              "      display: none;\n",
              "      fill: #1967D2;\n",
              "      height: 32px;\n",
              "      padding: 0 0 0 0;\n",
              "      width: 32px;\n",
              "    }\n",
              "\n",
              "    .colab-df-convert:hover {\n",
              "      background-color: #E2EBFA;\n",
              "      box-shadow: 0px 1px 2px rgba(60, 64, 67, 0.3), 0px 1px 3px 1px rgba(60, 64, 67, 0.15);\n",
              "      fill: #174EA6;\n",
              "    }\n",
              "\n",
              "    [theme=dark] .colab-df-convert {\n",
              "      background-color: #3B4455;\n",
              "      fill: #D2E3FC;\n",
              "    }\n",
              "\n",
              "    [theme=dark] .colab-df-convert:hover {\n",
              "      background-color: #434B5C;\n",
              "      box-shadow: 0px 1px 3px 1px rgba(0, 0, 0, 0.15);\n",
              "      filter: drop-shadow(0px 1px 2px rgba(0, 0, 0, 0.3));\n",
              "      fill: #FFFFFF;\n",
              "    }\n",
              "  </style>\n",
              "\n",
              "      <script>\n",
              "        const buttonEl =\n",
              "          document.querySelector('#df-7b5b00d0-8cd6-474d-a6cf-ee412e689e55 button.colab-df-convert');\n",
              "        buttonEl.style.display =\n",
              "          google.colab.kernel.accessAllowed ? 'block' : 'none';\n",
              "\n",
              "        async function convertToInteractive(key) {\n",
              "          const element = document.querySelector('#df-7b5b00d0-8cd6-474d-a6cf-ee412e689e55');\n",
              "          const dataTable =\n",
              "            await google.colab.kernel.invokeFunction('convertToInteractive',\n",
              "                                                     [key], {});\n",
              "          if (!dataTable) return;\n",
              "\n",
              "          const docLinkHtml = 'Like what you see? Visit the ' +\n",
              "            '<a target=\"_blank\" href=https://colab.research.google.com/notebooks/data_table.ipynb>data table notebook</a>'\n",
              "            + ' to learn more about interactive tables.';\n",
              "          element.innerHTML = '';\n",
              "          dataTable['output_type'] = 'display_data';\n",
              "          await google.colab.output.renderOutput(dataTable, element);\n",
              "          const docLink = document.createElement('div');\n",
              "          docLink.innerHTML = docLinkHtml;\n",
              "          element.appendChild(docLink);\n",
              "        }\n",
              "      </script>\n",
              "    </div>\n",
              "  </div>\n",
              "  "
            ]
          },
          "metadata": {},
          "execution_count": 30
        }
      ]
    },
    {
      "cell_type": "code",
      "source": [
        ""
      ],
      "metadata": {
        "id": "usqKkGopMeyg"
      },
      "execution_count": null,
      "outputs": []
    },
    {
      "cell_type": "markdown",
      "source": [
        "# Experiments"
      ],
      "metadata": {
        "id": "ZyVOnkX7r9Hm"
      }
    },
    {
      "cell_type": "code",
      "source": [
        "# Save cleaned dataframes\n",
        "# MIData2015_2016.to_csv('/drive/My Drive/SIADS_697_698_Capstone/3_Colabs/2_Michigan_Academic_Data_from_MI_School_Data/2_Clean_Data/Grade_8_Cleaned_2015_2016.csv')\n",
        "# MIData2016_2017.to_csv('/drive/My Drive/SIADS_697_698_Capstone/3_Colabs/2_Michigan_Academic_Data_from_MI_School_Data/2_Clean_Data/Grade_8_Cleaned_2016_2017.csv')\n",
        "# MIData2017_2018.to_csv('/drive/My Drive/SIADS_697_698_Capstone/3_Colabs/2_Michigan_Academic_Data_from_MI_School_Data/2_Clean_Data/Grade_8_Cleaned_2017_2018.csv')\n",
        "# MIData2018_2019.to_csv('/drive/My Drive/SIADS_697_698_Capstone/3_Colabs/2_Michigan_Academic_Data_from_MI_School_Data/2_Clean_Data/Grade_8_Cleaned_2018_2019.csv')\n",
        "# MIData2020_2021.to_csv('/drive/My Drive/SIADS_697_698_Capstone/3_Colabs/2_Michigan_Academic_Data_from_MI_School_Data/2_Clean_Data/Grade_8_Cleaned_2020_2021.csv')"
      ],
      "metadata": {
        "id": "Zddx1WnLqLi-"
      },
      "execution_count": null,
      "outputs": []
    },
    {
      "cell_type": "code",
      "source": [
        ""
      ],
      "metadata": {
        "id": "n9mJEyQjhPiC"
      },
      "execution_count": null,
      "outputs": []
    },
    {
      "cell_type": "code",
      "source": [
        "# Make sure 12 schools with cell phone bans are in master list of 413 schools with scores every year\n",
        "Schools_With_Bans = [9315, 1264, 6762, 5827, 424, 2937, 3031, 2269, 3079, 2647, 4849, 3078]\n",
        "Schools_With_Bans_df = MIData_Final.loc[MIData_Final['buildingcode'].isin(Schools_With_Bans)]"
      ],
      "metadata": {
        "id": "akE8UiKvnDDP",
        "colab": {
          "base_uri": "https://localhost:8080/",
          "height": 198
        },
        "outputId": "9ff4df6d-3b06-4539-934a-167964604902"
      },
      "execution_count": null,
      "outputs": [
        {
          "output_type": "error",
          "ename": "NameError",
          "evalue": "ignored",
          "traceback": [
            "\u001b[0;31m---------------------------------------------------------------------------\u001b[0m",
            "\u001b[0;31mNameError\u001b[0m                                 Traceback (most recent call last)",
            "\u001b[0;32m<ipython-input-32-8974b6b6e03c>\u001b[0m in \u001b[0;36m<module>\u001b[0;34m()\u001b[0m\n\u001b[1;32m      1\u001b[0m \u001b[0;31m# Make sure 12 schools with cell phone bans are in master list of 413 schools with scores every year\u001b[0m\u001b[0;34m\u001b[0m\u001b[0;34m\u001b[0m\u001b[0;34m\u001b[0m\u001b[0m\n\u001b[1;32m      2\u001b[0m \u001b[0mSchools_With_Bans\u001b[0m \u001b[0;34m=\u001b[0m \u001b[0;34m[\u001b[0m\u001b[0;36m9315\u001b[0m\u001b[0;34m,\u001b[0m \u001b[0;36m1264\u001b[0m\u001b[0;34m,\u001b[0m \u001b[0;36m6762\u001b[0m\u001b[0;34m,\u001b[0m \u001b[0;36m5827\u001b[0m\u001b[0;34m,\u001b[0m \u001b[0;36m424\u001b[0m\u001b[0;34m,\u001b[0m \u001b[0;36m2937\u001b[0m\u001b[0;34m,\u001b[0m \u001b[0;36m3031\u001b[0m\u001b[0;34m,\u001b[0m \u001b[0;36m2269\u001b[0m\u001b[0;34m,\u001b[0m \u001b[0;36m3079\u001b[0m\u001b[0;34m,\u001b[0m \u001b[0;36m2647\u001b[0m\u001b[0;34m,\u001b[0m \u001b[0;36m4849\u001b[0m\u001b[0;34m,\u001b[0m \u001b[0;36m3078\u001b[0m\u001b[0;34m]\u001b[0m\u001b[0;34m\u001b[0m\u001b[0;34m\u001b[0m\u001b[0m\n\u001b[0;32m----> 3\u001b[0;31m \u001b[0mSchools_With_Bans_df\u001b[0m \u001b[0;34m=\u001b[0m \u001b[0mMIData_Final\u001b[0m\u001b[0;34m.\u001b[0m\u001b[0mloc\u001b[0m\u001b[0;34m[\u001b[0m\u001b[0mMIData_Final\u001b[0m\u001b[0;34m[\u001b[0m\u001b[0;34m'buildingcode'\u001b[0m\u001b[0;34m]\u001b[0m\u001b[0;34m.\u001b[0m\u001b[0misin\u001b[0m\u001b[0;34m(\u001b[0m\u001b[0mSchools_With_Bans\u001b[0m\u001b[0;34m)\u001b[0m\u001b[0;34m]\u001b[0m\u001b[0;34m\u001b[0m\u001b[0;34m\u001b[0m\u001b[0m\n\u001b[0m",
            "\u001b[0;31mNameError\u001b[0m: name 'MIData_Final' is not defined"
          ]
        }
      ]
    },
    {
      "cell_type": "code",
      "source": [
        "# counter = 0\n",
        "# for i in range(len(MIData_Final)):\n",
        "#   df = MIData_Final.iloc[counter:counter+100]\n",
        "#   counter+=100\n",
        "#   df = pd.melt(df, id_vars='buildingname', value_vars=['percentmet2015_2016', 'percentmet2016_2017', 'percentmet2017_2018', 'percentmet2018_2019', 'percentmet2020_2021'])\n",
        "#   import altair as alt\n",
        "#   alt.Chart(df).mark_line().encode( x='variable',\n",
        "#     y='value',\n",
        "#     color='buildingname' ).properties( width=800, height=600).show()\n"
      ],
      "metadata": {
        "id": "c1r7a10ZqJN_"
      },
      "execution_count": null,
      "outputs": []
    },
    {
      "cell_type": "code",
      "source": [
        "for i in range(len(MIData_Final)):\n",
        "  df = MIData_Final.iloc[i:i+1]\n",
        "  df_ban = Schools_With_Bans_df.iloc[11:12]\n",
        "  df = pd.concat([df, df_ban], axis = 0)\n",
        "  df = pd.melt(df, id_vars='buildingname', value_vars=['percentmet2015_2016', 'percentmet2016_2017', 'percentmet2017_2018', 'percentmet2018_2019', 'percentmet2020_2021'])\n",
        "  import altair as alt\n",
        "  chart = alt.Chart(df).mark_line().encode( x='variable',\n",
        "    y=alt.Y('value', sort='-y'),\n",
        "    color='buildingname' ).properties( width=200, height=100)\n",
        "  chart.display()"
      ],
      "metadata": {
        "id": "-mB5KbM7qJpy"
      },
      "execution_count": null,
      "outputs": []
    },
    {
      "cell_type": "code",
      "source": [
        ""
      ],
      "metadata": {
        "id": "p8fBx_wfkDLa"
      },
      "execution_count": null,
      "outputs": []
    },
    {
      "cell_type": "code",
      "source": [
        ""
      ],
      "metadata": {
        "id": "ragW-cdnqeUm"
      },
      "execution_count": null,
      "outputs": []
    }
  ]
}